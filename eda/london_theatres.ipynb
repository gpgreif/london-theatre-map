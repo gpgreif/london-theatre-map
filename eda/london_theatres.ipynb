{
 "cells": [
  {
   "cell_type": "code",
   "execution_count": 1,
   "id": "ba44e186",
   "metadata": {},
   "outputs": [],
   "source": [
    "import geopandas as gpd\n",
    "import pandas as pd"
   ]
  },
  {
   "cell_type": "code",
   "execution_count": 2,
   "id": "38909d88",
   "metadata": {},
   "outputs": [
    {
     "name": "stderr",
     "output_type": "stream",
     "text": [
      "/home/gpgreif/.pyenv/versions/3.11.0/envs/venv-ds/lib/python3.11/site-packages/IPython/core/interactiveshell.py:3373: FutureWarning: The `op` parameter is deprecated and will be removed in a future release. Please use the `predicate` parameter instead.\n",
      "  if await self.run_code(code, result, async_=asy):\n",
      "/tmp/ipykernel_1816/1079213348.py:14: UserWarning: CRS mismatch between the CRS of left geometries and the CRS of right geometries.\n",
      "Use `to_crs()` to reproject one of the input geometries to match the CRS of the other.\n",
      "\n",
      "Left CRS: None\n",
      "Right CRS: PROJCS[\"OSGB36 / British National Grid\",GEOGCS[\"OS ...\n",
      "\n",
      "  combined_data = gpd.sjoin(theaters_gdf, boroughs, how='left', op='within')\n",
      "/tmp/ipykernel_1816/1079213348.py:17: UserWarning: Column names longer than 10 characters will be truncated when saved to ESRI Shapefile.\n",
      "  combined_data.to_file('../data/london_theaters_with_boroughs.shp', driver='ESRI Shapefile')\n"
     ]
    }
   ],
   "source": [
    "# Load the shapefile of London boroughs\n",
    "borough_shapefile = '../data-raw/statistical-gis-boundaries-london/ESRI/London_Borough_Excluding_MHW.shp'\n",
    "boroughs = gpd.read_file(borough_shapefile)\n",
    "\n",
    "# Load the CSV file of London theaters\n",
    "theaters_csv = '../data-raw/london_theatres.csv'\n",
    "theaters = pd.read_csv(theaters_csv)\n",
    "\n",
    "# Convert the theaters DataFrame to a GeoDataFrame\n",
    "geometry = gpd.points_from_xy(theaters['longitude'], theaters['latitude'])\n",
    "theaters_gdf = gpd.GeoDataFrame(theaters, geometry=geometry)\n",
    "\n",
    "# Perform a spatial join to combine the theater data with boroughs\n",
    "combined_data = gpd.sjoin(theaters_gdf, boroughs, how='left', op='within')\n",
    "\n",
    "# Save the combined data to a new shapefile or GeoJSON\n",
    "combined_data.to_file('../data/london_theaters_with_boroughs.shp', driver='ESRI Shapefile')\n",
    "combined_data.to_file('../data/london_theaters_with_boroughs.geojson', driver='GeoJSON')"
   ]
  },
  {
   "cell_type": "code",
   "execution_count": 16,
   "id": "f613d139",
   "metadata": {},
   "outputs": [
    {
     "data": {
      "application/vnd.plotly.v1+json": {
       "config": {
        "plotlyServerURL": "https://plot.ly"
       },
       "data": [
        {
         "hovertemplate": "<b>%{hovertext}</b><br><br>borough_name=Kingston upon Thames<br>latitude=%{lat}<br>longitude=%{lon}<extra></extra>",
         "hovertext": [
          "Kingston upon Thames",
          "Kingston upon Thames"
         ],
         "lat": [
          51.39623937278533,
          51.3814061155264
         ],
         "legendgroup": "Kingston upon Thames",
         "lon": [
          -0.3084259634104032,
          -0.295613257299152
         ],
         "marker": {
          "color": "#EF553B"
         },
         "mode": "markers",
         "name": "Kingston upon Thames",
         "showlegend": true,
         "subplot": "mapbox",
         "type": "scattermapbox"
        },
        {
         "hovertemplate": "<b>%{hovertext}</b><br><br>borough_name=Lewisham<br>latitude=%{lat}<br>longitude=%{lon}<extra></extra>",
         "hovertext": [
          "Lewisham",
          "Lewisham",
          "Lewisham",
          "Lewisham",
          "Lewisham",
          "Lewisham",
          "Lewisham",
          "Lewisham",
          "Lewisham",
          "Lewisham"
         ],
         "lat": [
          51.47568861221421,
          51.44572095365428,
          51.47634389435151,
          51.433231264811184,
          51.46530269217728,
          51.46530269217728,
          51.45394088416412,
          51.47906871834874,
          51.426411386665166,
          51.47839272901002
         ],
         "legendgroup": "Lewisham",
         "lon": [
          -0.0377124791713324,
          -0.0229219834768553,
          -0.0318071104017283,
          -0.021849411943753,
          0.0079095750369971,
          0.0079095750369971,
          -0.0401394852839488,
          -0.0216812154041364,
          -0.0532836259832856,
          -0.0290254284272212
         ],
         "marker": {
          "color": "#00cc96"
         },
         "mode": "markers",
         "name": "Lewisham",
         "showlegend": true,
         "subplot": "mapbox",
         "type": "scattermapbox"
        },
        {
         "hovertemplate": "<b>%{hovertext}</b><br><br>borough_name=Greenwich<br>latitude=%{lat}<br>longitude=%{lon}<extra></extra>",
         "hovertext": [
          "Greenwich",
          "Greenwich",
          "Greenwich"
         ],
         "lat": [
          51.490012927078496,
          51.479982816820986,
          51.45000019851771
         ],
         "legendgroup": "Greenwich",
         "lon": [
          0.0663930789412,
          -0.0092437200868769,
          0.0488852588482575
         ],
         "marker": {
          "color": "#ab63fa"
         },
         "mode": "markers",
         "name": "Greenwich",
         "showlegend": true,
         "subplot": "mapbox",
         "type": "scattermapbox"
        },
        {
         "hovertemplate": "<b>%{hovertext}</b><br><br>borough_name=City of Westminster<br>latitude=%{lat}<br>longitude=%{lon}<extra></extra>",
         "hovertext": [
          "City of Westminster",
          "City of Westminster",
          "City of Westminster",
          "City of Westminster",
          "City of Westminster",
          "City of Westminster",
          "City of Westminster",
          "City of Westminster",
          "City of Westminster",
          "City of Westminster",
          "City of Westminster",
          "City of Westminster",
          "City of Westminster",
          "City of Westminster",
          "City of Westminster",
          "City of Westminster",
          "City of Westminster",
          "City of Westminster",
          "City of Westminster",
          "City of Westminster",
          "City of Westminster",
          "City of Westminster",
          "City of Westminster",
          "City of Westminster",
          "City of Westminster",
          "City of Westminster",
          "City of Westminster",
          "City of Westminster",
          "City of Westminster",
          "City of Westminster",
          "City of Westminster",
          "City of Westminster",
          "City of Westminster",
          "City of Westminster",
          "City of Westminster",
          "City of Westminster",
          "City of Westminster",
          "City of Westminster",
          "City of Westminster",
          "City of Westminster",
          "City of Westminster",
          "City of Westminster",
          "City of Westminster",
          "City of Westminster",
          "City of Westminster",
          "City of Westminster",
          "City of Westminster",
          "City of Westminster",
          "City of Westminster",
          "City of Westminster",
          "City of Westminster",
          "City of Westminster"
         ],
         "lat": [
          51.51156528850338,
          51.51517556148136,
          51.5137962091418,
          51.51335015913303,
          51.51350873810073,
          51.514979885620114,
          51.49979219073049,
          51.509670474356206,
          51.509834514136855,
          51.512520235984766,
          51.51085658102539,
          51.5135573287082,
          51.5071417909369,
          51.51201028102943,
          51.50802525819279,
          51.513596199676506,
          51.51488794019928,
          51.513385386373,
          51.52224162322516,
          51.49923633609939,
          51.51193352420293,
          51.50859876232428,
          51.51020844455167,
          51.521393700386966,
          51.51301143715263,
          51.528807349274174,
          51.52406349493783,
          51.524957453241264,
          51.50697185527061,
          51.49628760576857,
          51.508634620890895,
          51.51358639460768,
          51.513759345414734,
          51.51270146029003,
          51.51063759528034,
          51.51209234480673,
          51.511568413584925,
          51.510455525244765,
          51.51264432776856,
          51.511850354877566,
          51.5107165109118,
          51.51042255432006,
          51.51131045526986,
          51.5074768743501,
          51.51426411438776,
          51.510510449544526,
          51.51251524158,
          51.51178329476097,
          51.52168049755769,
          51.50934256806414,
          51.51067862590072,
          51.4975144949599
         ],
         "legendgroup": "City of Westminster",
         "lon": [
          -0.1369803321375948,
          -0.1313182578600293,
          -0.1296840929642088,
          -0.1292156292170939,
          -0.1295693977545588,
          -0.1418989181508524,
          -0.1784650568199441,
          -0.1365103413400923,
          -0.1332756608705549,
          -0.1348085638069683,
          -0.1240835826429859,
          -0.1242606212540359,
          -0.131915741504988,
          -0.1349875350540233,
          -0.145483659644915,
          -0.1312339360214543,
          -0.1345135108576875,
          -0.1219478454627267,
          -0.1863270402341235,
          -0.1436924369635553,
          -0.1217198378988755,
          -0.1257033781252389,
          -0.1352924707492895,
          -0.1760272038700554,
          -0.1210409269434265,
          -0.1560398044120738,
          -0.1966664278828115,
          -0.1708692755933803,
          -0.1291130123474287,
          -0.1442583146540935,
          -0.1336126049007627,
          -0.1204699953287099,
          -0.1223218172608624,
          -0.1213418911942063,
          -0.1244245447812526,
          -0.125333186067712,
          -0.1298180350542819,
          -0.1293880536931398,
          -0.1290541319289379,
          -0.1316798572370995,
          -0.1287871184197946,
          -0.1278772016378012,
          -0.128820127726811,
          -0.1252883963368303,
          -0.1325328209133474,
          -0.1333776638543811,
          -0.1345065921469717,
          -0.1354004908521479,
          -0.1862777054157402,
          -0.13284869232864,
          -0.1224767365940358,
          -0.1439493722618853
         ],
         "marker": {
          "color": "#FFA15A"
         },
         "mode": "markers",
         "name": "City of Westminster",
         "showlegend": true,
         "subplot": "mapbox",
         "type": "scattermapbox"
        },
        {
         "hovertemplate": "<b>%{hovertext}</b><br><br>borough_name=Southwark<br>latitude=%{lat}<br>longitude=%{lon}<extra></extra>",
         "hovertext": [
          "Southwark",
          "Southwark",
          "Southwark",
          "Southwark",
          "Southwark",
          "Southwark",
          "Southwark",
          "Southwark",
          "Southwark",
          "Southwark",
          "Southwark",
          "Southwark",
          "Southwark",
          "Southwark",
          "Southwark",
          "Southwark",
          "Southwark",
          "Southwark",
          "Southwark",
          "Southwark",
          "Southwark"
         ],
         "lat": [
          51.502875561798646,
          51.4533918452999,
          51.47751842971464,
          51.50458885766454,
          51.48065992012816,
          51.49832275299785,
          51.5041449176166,
          51.47042120636875,
          51.50862324904411,
          51.503860599984975,
          51.50540364069288,
          51.50517260421037,
          51.503860599984975,
          51.49951305784285,
          51.4982101912105,
          51.50862324904411,
          51.50781832827308,
          51.45529877946817,
          51.48312387788948,
          51.50311794932499,
          51.50517260421037
         ],
         "legendgroup": "Southwark",
         "lon": [
          -0.0438625239809395,
          -0.0978911721042054,
          -0.0853062863691102,
          -0.0828895130426624,
          -0.0998919415847582,
          -0.0507684785933427,
          -0.0788308848323306,
          -0.0698247345843988,
          -0.0981810966698339,
          -0.1033794781082205,
          -0.0926245760756013,
          -0.096077228881399,
          -0.1033794781082205,
          -0.1002896846270558,
          -0.0997817034567961,
          -0.0981810966698339,
          -0.0978691104432834,
          -0.0835766920192056,
          -0.0871743606796013,
          -0.0875040349723608,
          -0.096077228881399
         ],
         "marker": {
          "color": "#19d3f3"
         },
         "mode": "markers",
         "name": "Southwark",
         "showlegend": true,
         "subplot": "mapbox",
         "type": "scattermapbox"
        },
        {
         "hovertemplate": "<b>%{hovertext}</b><br><br>borough_name=Hackney<br>latitude=%{lat}<br>longitude=%{lon}<extra></extra>",
         "hovertext": [
          "Hackney",
          "Hackney",
          "Hackney",
          "Hackney",
          "Hackney",
          "Hackney",
          "Hackney",
          "Hackney",
          "Hackney",
          "Hackney",
          "Hackney",
          "Hackney"
         ],
         "lat": [
          51.52838974209928,
          51.5394745048292,
          51.55140177146531,
          51.527590515925816,
          51.5616174991879,
          51.55496024245703,
          51.54657725787396,
          51.55063710292275,
          51.5280300761556,
          51.53232500662257,
          51.52838844235856,
          51.563323449122905
         ],
         "legendgroup": "Hackney",
         "lon": [
          -0.0849628891843733,
          -0.0831993916364793,
          -0.0769994663667956,
          -0.0812891131865167,
          -0.0860151719374522,
          -0.0697374416755723,
          -0.0570851720162678,
          -0.0443785449736017,
          -0.0838679841879728,
          -0.0816091668988306,
          -0.0849897871512811,
          -0.0735423492893335
         ],
         "marker": {
          "color": "#FF6692"
         },
         "mode": "markers",
         "name": "Hackney",
         "showlegend": true,
         "subplot": "mapbox",
         "type": "scattermapbox"
        },
        {
         "hovertemplate": "<b>%{hovertext}</b><br><br>borough_name=Enfield<br>latitude=%{lat}<br>longitude=%{lon}<extra></extra>",
         "hovertext": [
          "Enfield",
          "Enfield",
          "Enfield",
          "Enfield"
         ],
         "lat": [
          51.65033224944441,
          51.616700680572905,
          51.62504171624158,
          51.64493099722316
         ],
         "legendgroup": "Enfield",
         "lon": [
          -0.0823117829464124,
          -0.0799044577968184,
          -0.1051494338713945,
          -0.1468517991390531
         ],
         "marker": {
          "color": "#B6E880"
         },
         "mode": "markers",
         "name": "Enfield",
         "showlegend": true,
         "subplot": "mapbox",
         "type": "scattermapbox"
        },
        {
         "hovertemplate": "<b>%{hovertext}</b><br><br>borough_name=Camden<br>latitude=%{lat}<br>longitude=%{lon}<extra></extra>",
         "hovertext": [
          "Camden",
          "Camden",
          "Camden",
          "Camden",
          "Camden",
          "Camden",
          "Camden",
          "Camden",
          "Camden",
          "Camden",
          "Camden",
          "Camden",
          "Camden",
          "Camden",
          "Camden",
          "Camden",
          "Camden",
          "Camden",
          "Camden",
          "Camden",
          "Camden",
          "Camden",
          "Camden",
          "Camden"
         ],
         "lat": [
          51.52583300840003,
          51.54065446198819,
          51.53549101727448,
          51.5167859675125,
          51.52030279323144,
          51.53604906665467,
          51.54861882368309,
          51.5174718389579,
          51.52915480473698,
          51.54483350251209,
          51.51402121910827,
          51.54480978684451,
          51.54354905371327,
          51.57016550755269,
          51.544562560495,
          51.51456818000892,
          51.5254148784524,
          51.51594210606206,
          51.52689881428192,
          51.55628230425253,
          51.53743114924061,
          51.527810909274656,
          51.53474842305999,
          51.51513726807799
         ],
         "legendgroup": "Camden",
         "lon": [
          -0.1345818622860995,
          -0.1455541082782508,
          -0.1408764590600151,
          -0.127702348826003,
          -0.1199192001284105,
          -0.1357639854810851,
          -0.1414227243203092,
          -0.1312480133024004,
          -0.129717427755678,
          -0.1757821912485239,
          -0.1279882639569663,
          -0.1550235190574705,
          -0.1528914400038746,
          -0.1449112401195862,
          -0.1739763621958205,
          -0.1273173410795329,
          -0.143924929318968,
          -0.1243786598230061,
          -0.1399723532255683,
          -0.1800411954705527,
          -0.1251960787009451,
          -0.1305653111189305,
          -0.123577177619613,
          -0.1195991146904622
         ],
         "marker": {
          "color": "#FF97FF"
         },
         "mode": "markers",
         "name": "Camden",
         "showlegend": true,
         "subplot": "mapbox",
         "type": "scattermapbox"
        },
        {
         "hovertemplate": "<b>%{hovertext}</b><br><br>borough_name=Bromley<br>latitude=%{lat}<br>longitude=%{lon}<extra></extra>",
         "hovertext": [
          "Bromley",
          "Bromley",
          "Bromley",
          "Bromley"
         ],
         "lat": [
          51.41858405789888,
          51.40428911545257,
          51.4082146673247,
          51.3734225856746
         ],
         "legendgroup": "Bromley",
         "lon": [
          -0.0622302193400366,
          0.0128556647161554,
          0.0136324981080366,
          -0.0119437554534555
         ],
         "marker": {
          "color": "#FECB52"
         },
         "mode": "markers",
         "name": "Bromley",
         "showlegend": true,
         "subplot": "mapbox",
         "type": "scattermapbox"
        },
        {
         "hovertemplate": "<b>%{hovertext}</b><br><br>borough_name=Haringey<br>latitude=%{lat}<br>longitude=%{lon}<extra></extra>",
         "hovertext": [
          "Haringey",
          "Haringey",
          "Haringey",
          "Haringey",
          "Haringey",
          "Haringey",
          "Haringey",
          "Haringey"
         ],
         "lat": [
          51.57246809026717,
          51.57665106807653,
          51.5949839472599,
          51.59065970940856,
          51.57658776530412,
          51.58808292873386,
          51.577612608047424,
          51.582338135018
         ],
         "legendgroup": "Haringey",
         "lon": [
          -0.151935654699275,
          -0.1455785875011868,
          -0.1321109644549455,
          -0.0627456486409583,
          -0.1234881880303057,
          -0.0740086771829827,
          -0.1479752921299811,
          -0.1215486695651695
         ],
         "marker": {
          "color": "#636efa"
         },
         "mode": "markers",
         "name": "Haringey",
         "showlegend": true,
         "subplot": "mapbox",
         "type": "scattermapbox"
        },
        {
         "hovertemplate": "<b>%{hovertext}</b><br><br>borough_name=Tower Hamlets<br>latitude=%{lat}<br>longitude=%{lon}<extra></extra>",
         "hovertext": [
          "Tower Hamlets",
          "Tower Hamlets",
          "Tower Hamlets",
          "Tower Hamlets",
          "Tower Hamlets",
          "Tower Hamlets",
          "Tower Hamlets"
         ],
         "lat": [
          51.5111242301771,
          51.51423921425979,
          51.49268042767557,
          51.54300955723465,
          51.53413798560607,
          51.51700361771773,
          51.524742821169056
         ],
         "legendgroup": "Tower Hamlets",
         "lon": [
          -0.0685509815231488,
          -0.0422205533617967,
          -0.0258168999093897,
          -0.0243590223376761,
          -0.0400691300878303,
          -0.0739235929747063,
          -0.0754126071062798
         ],
         "marker": {
          "color": "#EF553B"
         },
         "mode": "markers",
         "name": "Tower Hamlets",
         "showlegend": true,
         "subplot": "mapbox",
         "type": "scattermapbox"
        },
        {
         "hovertemplate": "<b>%{hovertext}</b><br><br>borough_name=Ealing<br>latitude=%{lat}<br>longitude=%{lon}<extra></extra>",
         "hovertext": [
          "Ealing",
          "Ealing"
         ],
         "lat": [
          51.509917155602686,
          51.51221678004136
         ],
         "legendgroup": "Ealing",
         "lon": [
          -0.3054568839768728,
          -0.3112423100235312
         ],
         "marker": {
          "color": "#00cc96"
         },
         "mode": "markers",
         "name": "Ealing",
         "showlegend": true,
         "subplot": "mapbox",
         "type": "scattermapbox"
        },
        {
         "hovertemplate": "<b>%{hovertext}</b><br><br>borough_name=Hammersmith and Fulham<br>latitude=%{lat}<br>longitude=%{lon}<extra></extra>",
         "hovertext": [
          "Hammersmith and Fulham",
          "Hammersmith and Fulham",
          "Hammersmith and Fulham",
          "Hammersmith and Fulham",
          "Hammersmith and Fulham",
          "Hammersmith and Fulham",
          "Hammersmith and Fulham",
          "Hammersmith and Fulham",
          "Hammersmith and Fulham",
          "Hammersmith and Fulham"
         ],
         "lat": [
          51.49375939028386,
          51.49099868707071,
          51.50393746473858,
          51.5055342950238,
          51.48963907053891,
          51.48990811744111,
          51.48990811744111,
          51.49106287784542,
          51.49403513904844,
          51.51831411840472
         ],
         "legendgroup": "Hammersmith and Fulham",
         "lon": [
          -0.2278771226040648,
          -0.2270103296328433,
          -0.226070492208498,
          -0.227045430782263,
          -0.2123375178896296,
          -0.2081939313937273,
          -0.2081939313937273,
          -0.2155232548741996,
          -0.2390150557381748,
          -0.2260017480306522
         ],
         "marker": {
          "color": "#ab63fa"
         },
         "mode": "markers",
         "name": "Hammersmith and Fulham",
         "showlegend": true,
         "subplot": "mapbox",
         "type": "scattermapbox"
        },
        {
         "hovertemplate": "<b>%{hovertext}</b><br><br>borough_name=Merton<br>latitude=%{lat}<br>longitude=%{lon}<extra></extra>",
         "hovertext": [
          "Merton",
          "Merton",
          "Merton",
          "Merton",
          "Merton",
          "Merton"
         ],
         "lat": [
          51.41980862790408,
          51.420198742717,
          51.42374315577823,
          51.42244792716742,
          51.411899082908896,
          51.41351460609228
         ],
         "legendgroup": "Merton",
         "lon": [
          -0.2028957527476778,
          -0.1960784350015646,
          -0.208465413144177,
          -0.2277074848303416,
          -0.2314599239229045,
          -0.1847662126775811
         ],
         "marker": {
          "color": "#FFA15A"
         },
         "mode": "markers",
         "name": "Merton",
         "showlegend": true,
         "subplot": "mapbox",
         "type": "scattermapbox"
        },
        {
         "hovertemplate": "<b>%{hovertext}</b><br><br>borough_name=City and County of the City of London<br>latitude=%{lat}<br>longitude=%{lon}<extra></extra>",
         "hovertext": [
          "City and County of the City of London",
          "City and County of the City of London",
          "City and County of the City of London",
          "City and County of the City of London",
          "City and County of the City of London"
         ],
         "lat": [
          51.51401961793313,
          51.52054718619129,
          51.520470169199285,
          51.51153824416853,
          51.51334896595911
         ],
         "legendgroup": "City and County of the City of London",
         "lon": [
          -0.1066033891951477,
          -0.0926828983090703,
          -0.0957136054219065,
          -0.1009450950377587,
          -0.0857644166920904
         ],
         "marker": {
          "color": "#19d3f3"
         },
         "mode": "markers",
         "name": "City and County of the City of London",
         "showlegend": true,
         "subplot": "mapbox",
         "type": "scattermapbox"
        },
        {
         "hovertemplate": "<b>%{hovertext}</b><br><br>borough_name=Barking and Dagenham<br>latitude=%{lat}<br>longitude=%{lon}<extra></extra>",
         "hovertext": [
          "Barking and Dagenham"
         ],
         "lat": [
          51.53639032185141
         ],
         "legendgroup": "Barking and Dagenham",
         "lon": [
          0.0757022762528122
         ],
         "marker": {
          "color": "#FF6692"
         },
         "mode": "markers",
         "name": "Barking and Dagenham",
         "showlegend": true,
         "subplot": "mapbox",
         "type": "scattermapbox"
        },
        {
         "hovertemplate": "<b>%{hovertext}</b><br><br>borough_name=Wandsworth<br>latitude=%{lat}<br>longitude=%{lon}<extra></extra>",
         "hovertext": [
          "Wandsworth",
          "Wandsworth",
          "Wandsworth",
          "Wandsworth",
          "Wandsworth",
          "Wandsworth",
          "Wandsworth"
         ],
         "lat": [
          51.44228795092532,
          51.46567840164486,
          51.48265903161796,
          51.47244361102749,
          51.48170707926796,
          51.4610265174036,
          51.48312519057925
         ],
         "legendgroup": "Wandsworth",
         "lon": [
          -0.189439175217191,
          -0.1624148223188913,
          -0.139325264945663,
          -0.1672828352104146,
          -0.1422729121010573,
          -0.2217031707443814,
          -0.1273824526770562
         ],
         "marker": {
          "color": "#B6E880"
         },
         "mode": "markers",
         "name": "Wandsworth",
         "showlegend": true,
         "subplot": "mapbox",
         "type": "scattermapbox"
        },
        {
         "hovertemplate": "<b>%{hovertext}</b><br><br>borough_name=Richmond upon Thames<br>latitude=%{lat}<br>longitude=%{lon}<extra></extra>",
         "hovertext": [
          "Richmond upon Thames",
          "Richmond upon Thames",
          "Richmond upon Thames",
          "Richmond upon Thames",
          "Richmond upon Thames",
          "Richmond upon Thames",
          "Richmond upon Thames",
          "Richmond upon Thames"
         ],
         "lat": [
          51.408777676331695,
          51.42763904969559,
          51.46257946526371,
          51.41950034239001,
          51.44699382936108,
          51.43617233565898,
          51.46489827440174,
          51.47279382625401
         ],
         "legendgroup": "Richmond upon Thames",
         "lon": [
          -0.3092911923487854,
          -0.3565477155951328,
          -0.3053888774137911,
          -0.3159128358253318,
          -0.3276642609516128,
          -0.3330448489345589,
          -0.3034602071545642,
          -0.2484281321195059
         ],
         "marker": {
          "color": "#FF97FF"
         },
         "mode": "markers",
         "name": "Richmond upon Thames",
         "showlegend": true,
         "subplot": "mapbox",
         "type": "scattermapbox"
        },
        {
         "hovertemplate": "<b>%{hovertext}</b><br><br>borough_name=Barnet<br>latitude=%{lat}<br>longitude=%{lon}<extra></extra>",
         "hovertext": [
          "Barnet",
          "Barnet",
          "Barnet"
         ],
         "lat": [
          51.63269014380219,
          51.653603403545866,
          51.61346126926521
         ],
         "legendgroup": "Barnet",
         "lon": [
          -0.1752546620875067,
          -0.2009638584104174,
          -0.1778996827887166
         ],
         "marker": {
          "color": "#FECB52"
         },
         "mode": "markers",
         "name": "Barnet",
         "showlegend": true,
         "subplot": "mapbox",
         "type": "scattermapbox"
        },
        {
         "hovertemplate": "<b>%{hovertext}</b><br><br>borough_name=Brent<br>latitude=%{lat}<br>longitude=%{lon}<extra></extra>",
         "hovertext": [
          "Brent"
         ],
         "lat": [
          51.54423111173105
         ],
         "legendgroup": "Brent",
         "lon": [
          -0.2019935619240467
         ],
         "marker": {
          "color": "#636efa"
         },
         "mode": "markers",
         "name": "Brent",
         "showlegend": true,
         "subplot": "mapbox",
         "type": "scattermapbox"
        },
        {
         "hovertemplate": "<b>%{hovertext}</b><br><br>borough_name=Kensington and Chelsea<br>latitude=%{lat}<br>longitude=%{lon}<extra></extra>",
         "hovertext": [
          "Kensington and Chelsea",
          "Kensington and Chelsea",
          "Kensington and Chelsea",
          "Kensington and Chelsea",
          "Kensington and Chelsea",
          "Kensington and Chelsea",
          "Kensington and Chelsea",
          "Kensington and Chelsea",
          "Kensington and Chelsea"
         ],
         "lat": [
          51.48215635297819,
          51.50115651634619,
          51.508996446797,
          51.51721062864502,
          51.49312267230601,
          51.49394057575294,
          51.49115439458023,
          51.51003836954936,
          51.48666972967394
         ],
         "legendgroup": "Kensington and Chelsea",
         "lon": [
          -0.1812371902860874,
          -0.2044493434607114,
          -0.2004850758814267,
          -0.2031439631968455,
          -0.1579989035695666,
          -0.1591038148043436,
          -0.1851572107268425,
          -0.199262214493141,
          -0.1911104669773156
         ],
         "marker": {
          "color": "#EF553B"
         },
         "mode": "markers",
         "name": "Kensington and Chelsea",
         "showlegend": true,
         "subplot": "mapbox",
         "type": "scattermapbox"
        },
        {
         "hovertemplate": "<b>%{hovertext}</b><br><br>borough_name=Islington<br>latitude=%{lat}<br>longitude=%{lon}<extra></extra>",
         "hovertext": [
          "Islington",
          "Islington",
          "Islington",
          "Islington",
          "Islington",
          "Islington",
          "Islington",
          "Islington",
          "Islington",
          "Islington",
          "Islington",
          "Islington",
          "Islington",
          "Islington",
          "Islington"
         ],
         "lat": [
          51.53995317672141,
          51.53663920388601,
          51.54477968774732,
          51.53952324655064,
          51.529937122450505,
          51.53813038757389,
          51.53191794150089,
          51.54654050482146,
          51.53849633316568,
          51.54408175712269,
          51.5476061863884,
          51.54924609614783,
          51.561773501942255,
          51.56617242777288,
          51.51992929438563
         ],
         "legendgroup": "Islington",
         "lon": [
          -0.1055700654296319,
          -0.1125333772504998,
          -0.1043313066724879,
          -0.1028773178176725,
          -0.107874624745915,
          -0.0885456507562827,
          -0.1074607094432439,
          -0.1031334748855602,
          -0.1044771408568569,
          -0.1050952125575892,
          -0.0769432189606193,
          -0.1231965660924952,
          -0.1171688099019989,
          -0.1100208183188951,
          -0.086814448962657
         ],
         "marker": {
          "color": "#00cc96"
         },
         "mode": "markers",
         "name": "Islington",
         "showlegend": true,
         "subplot": "mapbox",
         "type": "scattermapbox"
        },
        {
         "hovertemplate": "<b>%{hovertext}</b><br><br>borough_name=Hillingdon<br>latitude=%{lat}<br>longitude=%{lon}<extra></extra>",
         "hovertext": [
          "Hillingdon",
          "Hillingdon",
          "Hillingdon"
         ],
         "lat": [
          51.52155420583695,
          51.5794431637199,
          51.5613488710283
         ],
         "legendgroup": "Hillingdon",
         "lon": [
          -0.4233741268697176,
          -0.4303189549664067,
          -0.4414429958323008
         ],
         "marker": {
          "color": "#ab63fa"
         },
         "mode": "markers",
         "name": "Hillingdon",
         "showlegend": true,
         "subplot": "mapbox",
         "type": "scattermapbox"
        },
        {
         "hovertemplate": "<b>%{hovertext}</b><br><br>borough_name=Lambeth<br>latitude=%{lat}<br>longitude=%{lon}<extra></extra>",
         "hovertext": [
          "Lambeth",
          "Lambeth",
          "Lambeth",
          "Lambeth",
          "Lambeth",
          "Lambeth",
          "Lambeth",
          "Lambeth",
          "Lambeth",
          "Lambeth",
          "Lambeth",
          "Lambeth",
          "Lambeth",
          "Lambeth",
          "Lambeth",
          "Lambeth",
          "Lambeth",
          "Lambeth"
         ],
         "lat": [
          51.50274611624612,
          51.50417225193464,
          51.47648579165168,
          51.50717503787731,
          51.50499811222206,
          51.50247047745965,
          51.50460338652723,
          51.46690969485925,
          51.48700390363328,
          51.487220086722886,
          51.46618085287746,
          51.50378940848611,
          51.43917353860401,
          51.4636699274074,
          51.484273221589945,
          51.50244960180335,
          51.507377052777706,
          51.50354554098729
         ],
         "legendgroup": "Lambeth",
         "lon": [
          -0.1138885220282046,
          -0.1208318132224685,
          -0.1328234480585574,
          -0.1175526483088759,
          -0.1135793983824058,
          -0.1175560574023987,
          -0.111517692884766,
          -0.138482218652851,
          -0.1214052221812466,
          -0.1096583705465674,
          -0.1276322277129228,
          -0.1088747366618888,
          -0.1284747326243773,
          -0.1445454053248059,
          -0.1187523576667091,
          -0.1106267361802584,
          -0.1156683381597779,
          -0.1083199847693592
         ],
         "marker": {
          "color": "#FFA15A"
         },
         "mode": "markers",
         "name": "Lambeth",
         "showlegend": true,
         "subplot": "mapbox",
         "type": "scattermapbox"
        },
        {
         "hovertemplate": "<b>%{hovertext}</b><br><br>borough_name=Newham<br>latitude=%{lat}<br>longitude=%{lon}<extra></extra>",
         "hovertext": [
          "Newham",
          "Newham",
          "Newham",
          "Newham"
         ],
         "lat": [
          51.502939622424655,
          51.54344505535073,
          51.54302209998728,
          51.53441802465949
         ],
         "legendgroup": "Newham",
         "lon": [
          0.0411837884308184,
          -0.0001577842179673,
          -0.0006377019617914,
          0.0259742183292613
         ],
         "marker": {
          "color": "#19d3f3"
         },
         "mode": "markers",
         "name": "Newham",
         "showlegend": true,
         "subplot": "mapbox",
         "type": "scattermapbox"
        },
        {
         "hovertemplate": "<b>%{hovertext}</b><br><br>borough_name=Bexley<br>latitude=%{lat}<br>longitude=%{lon}<extra></extra>",
         "hovertext": [
          "Bexley",
          "Bexley",
          "Bexley",
          "Bexley"
         ],
         "lat": [
          51.46207494816597,
          51.43979204291358,
          51.48217555603904,
          51.456057832683626
         ],
         "legendgroup": "Bexley",
         "lon": [
          0.125228844495745,
          0.1048423450296953,
          0.1793888447733876,
          0.1883775691691815
         ],
         "marker": {
          "color": "#FF6692"
         },
         "mode": "markers",
         "name": "Bexley",
         "showlegend": true,
         "subplot": "mapbox",
         "type": "scattermapbox"
        },
        {
         "hovertemplate": "<b>%{hovertext}</b><br><br>borough_name=Croydon<br>latitude=%{lat}<br>longitude=%{lon}<extra></extra>",
         "hovertext": [
          "Croydon",
          "Croydon",
          "Croydon"
         ],
         "lat": [
          51.3726881079965,
          51.37305114926197,
          51.40091910249431
         ],
         "legendgroup": "Croydon",
         "lon": [
          -0.1026983758256157,
          -0.0973829168816656,
          -0.077179030596969
         ],
         "marker": {
          "color": "#B6E880"
         },
         "mode": "markers",
         "name": "Croydon",
         "showlegend": true,
         "subplot": "mapbox",
         "type": "scattermapbox"
        },
        {
         "hovertemplate": "<b>%{hovertext}</b><br><br>borough_name=Hounslow<br>latitude=%{lat}<br>longitude=%{lon}<extra></extra>",
         "hovertext": [
          "Hounslow",
          "Hounslow",
          "Hounslow",
          "Hounslow",
          "Hounslow",
          "Hounslow"
         ],
         "lat": [
          51.49643256087536,
          51.46864495920792,
          51.46928924053546,
          51.48627848953497,
          51.49647058023351,
          51.48660866624159
         ],
         "legendgroup": "Hounslow",
         "lon": [
          -0.2550565711459061,
          -0.3646055759918872,
          -0.3272250274467423,
          -0.2996288588843563,
          -0.2540036758023545,
          -0.2589226667295163
         ],
         "marker": {
          "color": "#FF97FF"
         },
         "mode": "markers",
         "name": "Hounslow",
         "showlegend": true,
         "subplot": "mapbox",
         "type": "scattermapbox"
        },
        {
         "hovertemplate": "<b>%{hovertext}</b><br><br>borough_name=Harrow<br>latitude=%{lat}<br>longitude=%{lon}<extra></extra>",
         "hovertext": [
          "Harrow",
          "Harrow"
         ],
         "lat": [
          51.57331898548574,
          51.60897493234853
         ],
         "legendgroup": "Harrow",
         "lon": [
          -0.3413007325866644,
          -0.3640872283515281
         ],
         "marker": {
          "color": "#FECB52"
         },
         "mode": "markers",
         "name": "Harrow",
         "showlegend": true,
         "subplot": "mapbox",
         "type": "scattermapbox"
        },
        {
         "hovertemplate": "<b>%{hovertext}</b><br><br>borough_name=Waltham Forest<br>latitude=%{lat}<br>longitude=%{lon}<extra></extra>",
         "hovertext": [
          "Waltham Forest",
          "Waltham Forest",
          "Waltham Forest",
          "Waltham Forest",
          "Waltham Forest"
         ],
         "lat": [
          51.58609344906432,
          51.58584387846819,
          51.58700167476712,
          51.59167048731068,
          51.58748660651207
         ],
         "legendgroup": "Waltham Forest",
         "lon": [
          0.0077587917504553,
          -0.0199909263431504,
          -0.0220189058315624,
          -0.0150917803053881,
          -0.0219549590383679
         ],
         "marker": {
          "color": "#636efa"
         },
         "mode": "markers",
         "name": "Waltham Forest",
         "showlegend": true,
         "subplot": "mapbox",
         "type": "scattermapbox"
        },
        {
         "hovertemplate": "<b>%{hovertext}</b><br><br>borough_name=Redbridge<br>latitude=%{lat}<br>longitude=%{lon}<extra></extra>",
         "hovertext": [
          "Redbridge",
          "Redbridge"
         ],
         "lat": [
          51.598789500602805,
          51.560525556756566
         ],
         "legendgroup": "Redbridge",
         "lon": [
          0.0253996438691761,
          0.071015405724945
         ],
         "marker": {
          "color": "#EF553B"
         },
         "mode": "markers",
         "name": "Redbridge",
         "showlegend": true,
         "subplot": "mapbox",
         "type": "scattermapbox"
        },
        {
         "hovertemplate": "<b>%{hovertext}</b><br><br>borough_name=Havering<br>latitude=%{lat}<br>longitude=%{lon}<extra></extra>",
         "hovertext": [
          "Havering",
          "Havering"
         ],
         "lat": [
          51.5657199363651,
          51.57665761575345
         ],
         "legendgroup": "Havering",
         "lon": [
          0.2177905443933342,
          0.1836022807590062
         ],
         "marker": {
          "color": "#00cc96"
         },
         "mode": "markers",
         "name": "Havering",
         "showlegend": true,
         "subplot": "mapbox",
         "type": "scattermapbox"
        }
       ],
       "layout": {
        "legend": {
         "title": {
          "text": "borough_name"
         },
         "tracegroupgap": 0
        },
        "mapbox": {
         "bearing": 0,
         "center": {
          "lat": 51.5074,
          "lon": -0.1276
         },
         "domain": {
          "x": [
           0,
           1
          ],
          "y": [
           0,
           1
          ]
         },
         "pitch": 0,
         "style": "carto-positron",
         "zoom": 10
        },
        "margin": {
         "b": 0,
         "l": 0,
         "r": 0,
         "t": 30
        },
        "template": {
         "data": {
          "bar": [
           {
            "error_x": {
             "color": "#2a3f5f"
            },
            "error_y": {
             "color": "#2a3f5f"
            },
            "marker": {
             "line": {
              "color": "#E5ECF6",
              "width": 0.5
             },
             "pattern": {
              "fillmode": "overlay",
              "size": 10,
              "solidity": 0.2
             }
            },
            "type": "bar"
           }
          ],
          "barpolar": [
           {
            "marker": {
             "line": {
              "color": "#E5ECF6",
              "width": 0.5
             },
             "pattern": {
              "fillmode": "overlay",
              "size": 10,
              "solidity": 0.2
             }
            },
            "type": "barpolar"
           }
          ],
          "carpet": [
           {
            "aaxis": {
             "endlinecolor": "#2a3f5f",
             "gridcolor": "white",
             "linecolor": "white",
             "minorgridcolor": "white",
             "startlinecolor": "#2a3f5f"
            },
            "baxis": {
             "endlinecolor": "#2a3f5f",
             "gridcolor": "white",
             "linecolor": "white",
             "minorgridcolor": "white",
             "startlinecolor": "#2a3f5f"
            },
            "type": "carpet"
           }
          ],
          "choropleth": [
           {
            "colorbar": {
             "outlinewidth": 0,
             "ticks": ""
            },
            "type": "choropleth"
           }
          ],
          "contour": [
           {
            "colorbar": {
             "outlinewidth": 0,
             "ticks": ""
            },
            "colorscale": [
             [
              0,
              "#0d0887"
             ],
             [
              0.1111111111111111,
              "#46039f"
             ],
             [
              0.2222222222222222,
              "#7201a8"
             ],
             [
              0.3333333333333333,
              "#9c179e"
             ],
             [
              0.4444444444444444,
              "#bd3786"
             ],
             [
              0.5555555555555556,
              "#d8576b"
             ],
             [
              0.6666666666666666,
              "#ed7953"
             ],
             [
              0.7777777777777778,
              "#fb9f3a"
             ],
             [
              0.8888888888888888,
              "#fdca26"
             ],
             [
              1,
              "#f0f921"
             ]
            ],
            "type": "contour"
           }
          ],
          "contourcarpet": [
           {
            "colorbar": {
             "outlinewidth": 0,
             "ticks": ""
            },
            "type": "contourcarpet"
           }
          ],
          "heatmap": [
           {
            "colorbar": {
             "outlinewidth": 0,
             "ticks": ""
            },
            "colorscale": [
             [
              0,
              "#0d0887"
             ],
             [
              0.1111111111111111,
              "#46039f"
             ],
             [
              0.2222222222222222,
              "#7201a8"
             ],
             [
              0.3333333333333333,
              "#9c179e"
             ],
             [
              0.4444444444444444,
              "#bd3786"
             ],
             [
              0.5555555555555556,
              "#d8576b"
             ],
             [
              0.6666666666666666,
              "#ed7953"
             ],
             [
              0.7777777777777778,
              "#fb9f3a"
             ],
             [
              0.8888888888888888,
              "#fdca26"
             ],
             [
              1,
              "#f0f921"
             ]
            ],
            "type": "heatmap"
           }
          ],
          "heatmapgl": [
           {
            "colorbar": {
             "outlinewidth": 0,
             "ticks": ""
            },
            "colorscale": [
             [
              0,
              "#0d0887"
             ],
             [
              0.1111111111111111,
              "#46039f"
             ],
             [
              0.2222222222222222,
              "#7201a8"
             ],
             [
              0.3333333333333333,
              "#9c179e"
             ],
             [
              0.4444444444444444,
              "#bd3786"
             ],
             [
              0.5555555555555556,
              "#d8576b"
             ],
             [
              0.6666666666666666,
              "#ed7953"
             ],
             [
              0.7777777777777778,
              "#fb9f3a"
             ],
             [
              0.8888888888888888,
              "#fdca26"
             ],
             [
              1,
              "#f0f921"
             ]
            ],
            "type": "heatmapgl"
           }
          ],
          "histogram": [
           {
            "marker": {
             "pattern": {
              "fillmode": "overlay",
              "size": 10,
              "solidity": 0.2
             }
            },
            "type": "histogram"
           }
          ],
          "histogram2d": [
           {
            "colorbar": {
             "outlinewidth": 0,
             "ticks": ""
            },
            "colorscale": [
             [
              0,
              "#0d0887"
             ],
             [
              0.1111111111111111,
              "#46039f"
             ],
             [
              0.2222222222222222,
              "#7201a8"
             ],
             [
              0.3333333333333333,
              "#9c179e"
             ],
             [
              0.4444444444444444,
              "#bd3786"
             ],
             [
              0.5555555555555556,
              "#d8576b"
             ],
             [
              0.6666666666666666,
              "#ed7953"
             ],
             [
              0.7777777777777778,
              "#fb9f3a"
             ],
             [
              0.8888888888888888,
              "#fdca26"
             ],
             [
              1,
              "#f0f921"
             ]
            ],
            "type": "histogram2d"
           }
          ],
          "histogram2dcontour": [
           {
            "colorbar": {
             "outlinewidth": 0,
             "ticks": ""
            },
            "colorscale": [
             [
              0,
              "#0d0887"
             ],
             [
              0.1111111111111111,
              "#46039f"
             ],
             [
              0.2222222222222222,
              "#7201a8"
             ],
             [
              0.3333333333333333,
              "#9c179e"
             ],
             [
              0.4444444444444444,
              "#bd3786"
             ],
             [
              0.5555555555555556,
              "#d8576b"
             ],
             [
              0.6666666666666666,
              "#ed7953"
             ],
             [
              0.7777777777777778,
              "#fb9f3a"
             ],
             [
              0.8888888888888888,
              "#fdca26"
             ],
             [
              1,
              "#f0f921"
             ]
            ],
            "type": "histogram2dcontour"
           }
          ],
          "mesh3d": [
           {
            "colorbar": {
             "outlinewidth": 0,
             "ticks": ""
            },
            "type": "mesh3d"
           }
          ],
          "parcoords": [
           {
            "line": {
             "colorbar": {
              "outlinewidth": 0,
              "ticks": ""
             }
            },
            "type": "parcoords"
           }
          ],
          "pie": [
           {
            "automargin": true,
            "type": "pie"
           }
          ],
          "scatter": [
           {
            "fillpattern": {
             "fillmode": "overlay",
             "size": 10,
             "solidity": 0.2
            },
            "type": "scatter"
           }
          ],
          "scatter3d": [
           {
            "line": {
             "colorbar": {
              "outlinewidth": 0,
              "ticks": ""
             }
            },
            "marker": {
             "colorbar": {
              "outlinewidth": 0,
              "ticks": ""
             }
            },
            "type": "scatter3d"
           }
          ],
          "scattercarpet": [
           {
            "marker": {
             "colorbar": {
              "outlinewidth": 0,
              "ticks": ""
             }
            },
            "type": "scattercarpet"
           }
          ],
          "scattergeo": [
           {
            "marker": {
             "colorbar": {
              "outlinewidth": 0,
              "ticks": ""
             }
            },
            "type": "scattergeo"
           }
          ],
          "scattergl": [
           {
            "marker": {
             "colorbar": {
              "outlinewidth": 0,
              "ticks": ""
             }
            },
            "type": "scattergl"
           }
          ],
          "scattermapbox": [
           {
            "marker": {
             "colorbar": {
              "outlinewidth": 0,
              "ticks": ""
             }
            },
            "type": "scattermapbox"
           }
          ],
          "scatterpolar": [
           {
            "marker": {
             "colorbar": {
              "outlinewidth": 0,
              "ticks": ""
             }
            },
            "type": "scatterpolar"
           }
          ],
          "scatterpolargl": [
           {
            "marker": {
             "colorbar": {
              "outlinewidth": 0,
              "ticks": ""
             }
            },
            "type": "scatterpolargl"
           }
          ],
          "scatterternary": [
           {
            "marker": {
             "colorbar": {
              "outlinewidth": 0,
              "ticks": ""
             }
            },
            "type": "scatterternary"
           }
          ],
          "surface": [
           {
            "colorbar": {
             "outlinewidth": 0,
             "ticks": ""
            },
            "colorscale": [
             [
              0,
              "#0d0887"
             ],
             [
              0.1111111111111111,
              "#46039f"
             ],
             [
              0.2222222222222222,
              "#7201a8"
             ],
             [
              0.3333333333333333,
              "#9c179e"
             ],
             [
              0.4444444444444444,
              "#bd3786"
             ],
             [
              0.5555555555555556,
              "#d8576b"
             ],
             [
              0.6666666666666666,
              "#ed7953"
             ],
             [
              0.7777777777777778,
              "#fb9f3a"
             ],
             [
              0.8888888888888888,
              "#fdca26"
             ],
             [
              1,
              "#f0f921"
             ]
            ],
            "type": "surface"
           }
          ],
          "table": [
           {
            "cells": {
             "fill": {
              "color": "#EBF0F8"
             },
             "line": {
              "color": "white"
             }
            },
            "header": {
             "fill": {
              "color": "#C8D4E3"
             },
             "line": {
              "color": "white"
             }
            },
            "type": "table"
           }
          ]
         },
         "layout": {
          "annotationdefaults": {
           "arrowcolor": "#2a3f5f",
           "arrowhead": 0,
           "arrowwidth": 1
          },
          "autotypenumbers": "strict",
          "coloraxis": {
           "colorbar": {
            "outlinewidth": 0,
            "ticks": ""
           }
          },
          "colorscale": {
           "diverging": [
            [
             0,
             "#8e0152"
            ],
            [
             0.1,
             "#c51b7d"
            ],
            [
             0.2,
             "#de77ae"
            ],
            [
             0.3,
             "#f1b6da"
            ],
            [
             0.4,
             "#fde0ef"
            ],
            [
             0.5,
             "#f7f7f7"
            ],
            [
             0.6,
             "#e6f5d0"
            ],
            [
             0.7,
             "#b8e186"
            ],
            [
             0.8,
             "#7fbc41"
            ],
            [
             0.9,
             "#4d9221"
            ],
            [
             1,
             "#276419"
            ]
           ],
           "sequential": [
            [
             0,
             "#0d0887"
            ],
            [
             0.1111111111111111,
             "#46039f"
            ],
            [
             0.2222222222222222,
             "#7201a8"
            ],
            [
             0.3333333333333333,
             "#9c179e"
            ],
            [
             0.4444444444444444,
             "#bd3786"
            ],
            [
             0.5555555555555556,
             "#d8576b"
            ],
            [
             0.6666666666666666,
             "#ed7953"
            ],
            [
             0.7777777777777778,
             "#fb9f3a"
            ],
            [
             0.8888888888888888,
             "#fdca26"
            ],
            [
             1,
             "#f0f921"
            ]
           ],
           "sequentialminus": [
            [
             0,
             "#0d0887"
            ],
            [
             0.1111111111111111,
             "#46039f"
            ],
            [
             0.2222222222222222,
             "#7201a8"
            ],
            [
             0.3333333333333333,
             "#9c179e"
            ],
            [
             0.4444444444444444,
             "#bd3786"
            ],
            [
             0.5555555555555556,
             "#d8576b"
            ],
            [
             0.6666666666666666,
             "#ed7953"
            ],
            [
             0.7777777777777778,
             "#fb9f3a"
            ],
            [
             0.8888888888888888,
             "#fdca26"
            ],
            [
             1,
             "#f0f921"
            ]
           ]
          },
          "colorway": [
           "#636efa",
           "#EF553B",
           "#00cc96",
           "#ab63fa",
           "#FFA15A",
           "#19d3f3",
           "#FF6692",
           "#B6E880",
           "#FF97FF",
           "#FECB52"
          ],
          "font": {
           "color": "#2a3f5f"
          },
          "geo": {
           "bgcolor": "white",
           "lakecolor": "white",
           "landcolor": "#E5ECF6",
           "showlakes": true,
           "showland": true,
           "subunitcolor": "white"
          },
          "hoverlabel": {
           "align": "left"
          },
          "hovermode": "closest",
          "mapbox": {
           "style": "light"
          },
          "paper_bgcolor": "white",
          "plot_bgcolor": "#E5ECF6",
          "polar": {
           "angularaxis": {
            "gridcolor": "white",
            "linecolor": "white",
            "ticks": ""
           },
           "bgcolor": "#E5ECF6",
           "radialaxis": {
            "gridcolor": "white",
            "linecolor": "white",
            "ticks": ""
           }
          },
          "scene": {
           "xaxis": {
            "backgroundcolor": "#E5ECF6",
            "gridcolor": "white",
            "gridwidth": 2,
            "linecolor": "white",
            "showbackground": true,
            "ticks": "",
            "zerolinecolor": "white"
           },
           "yaxis": {
            "backgroundcolor": "#E5ECF6",
            "gridcolor": "white",
            "gridwidth": 2,
            "linecolor": "white",
            "showbackground": true,
            "ticks": "",
            "zerolinecolor": "white"
           },
           "zaxis": {
            "backgroundcolor": "#E5ECF6",
            "gridcolor": "white",
            "gridwidth": 2,
            "linecolor": "white",
            "showbackground": true,
            "ticks": "",
            "zerolinecolor": "white"
           }
          },
          "shapedefaults": {
           "line": {
            "color": "#2a3f5f"
           }
          },
          "ternary": {
           "aaxis": {
            "gridcolor": "white",
            "linecolor": "white",
            "ticks": ""
           },
           "baxis": {
            "gridcolor": "white",
            "linecolor": "white",
            "ticks": ""
           },
           "bgcolor": "#E5ECF6",
           "caxis": {
            "gridcolor": "white",
            "linecolor": "white",
            "ticks": ""
           }
          },
          "title": {
           "x": 0.05
          },
          "xaxis": {
           "automargin": true,
           "gridcolor": "white",
           "linecolor": "white",
           "ticks": "",
           "title": {
            "standoff": 15
           },
           "zerolinecolor": "white",
           "zerolinewidth": 2
          },
          "yaxis": {
           "automargin": true,
           "gridcolor": "white",
           "linecolor": "white",
           "ticks": "",
           "title": {
            "standoff": 15
           },
           "zerolinecolor": "white",
           "zerolinewidth": 2
          }
         }
        },
        "title": {
         "text": "London Theatres by Borough"
        }
       }
      },
      "text/html": [
       "<div>                            <div id=\"e0999e1e-141b-4f8a-b9ca-016a1b9d8bf3\" class=\"plotly-graph-div\" style=\"height:525px; width:100%;\"></div>            <script type=\"text/javascript\">                require([\"plotly\"], function(Plotly) {                    window.PLOTLYENV=window.PLOTLYENV || {};                                    if (document.getElementById(\"e0999e1e-141b-4f8a-b9ca-016a1b9d8bf3\")) {                    Plotly.newPlot(                        \"e0999e1e-141b-4f8a-b9ca-016a1b9d8bf3\",                        [{\"hovertemplate\":\"<b>%{hovertext}</b><br><br>borough_name=Kingston upon Thames<br>latitude=%{lat}<br>longitude=%{lon}<extra></extra>\",\"hovertext\":[\"Kingston upon Thames\",\"Kingston upon Thames\"],\"lat\":[51.39623937278533,51.3814061155264],\"legendgroup\":\"Kingston upon Thames\",\"lon\":[-0.3084259634104032,-0.295613257299152],\"marker\":{\"color\":\"#EF553B\"},\"mode\":\"markers\",\"name\":\"Kingston upon Thames\",\"showlegend\":true,\"subplot\":\"mapbox\",\"type\":\"scattermapbox\"},{\"hovertemplate\":\"<b>%{hovertext}</b><br><br>borough_name=Lewisham<br>latitude=%{lat}<br>longitude=%{lon}<extra></extra>\",\"hovertext\":[\"Lewisham\",\"Lewisham\",\"Lewisham\",\"Lewisham\",\"Lewisham\",\"Lewisham\",\"Lewisham\",\"Lewisham\",\"Lewisham\",\"Lewisham\"],\"lat\":[51.47568861221421,51.44572095365428,51.47634389435151,51.433231264811184,51.46530269217728,51.46530269217728,51.45394088416412,51.47906871834874,51.426411386665166,51.47839272901002],\"legendgroup\":\"Lewisham\",\"lon\":[-0.0377124791713324,-0.0229219834768553,-0.0318071104017283,-0.021849411943753,0.0079095750369971,0.0079095750369971,-0.0401394852839488,-0.0216812154041364,-0.0532836259832856,-0.0290254284272212],\"marker\":{\"color\":\"#00cc96\"},\"mode\":\"markers\",\"name\":\"Lewisham\",\"showlegend\":true,\"subplot\":\"mapbox\",\"type\":\"scattermapbox\"},{\"hovertemplate\":\"<b>%{hovertext}</b><br><br>borough_name=Greenwich<br>latitude=%{lat}<br>longitude=%{lon}<extra></extra>\",\"hovertext\":[\"Greenwich\",\"Greenwich\",\"Greenwich\"],\"lat\":[51.490012927078496,51.479982816820986,51.45000019851771],\"legendgroup\":\"Greenwich\",\"lon\":[0.0663930789412,-0.0092437200868769,0.0488852588482575],\"marker\":{\"color\":\"#ab63fa\"},\"mode\":\"markers\",\"name\":\"Greenwich\",\"showlegend\":true,\"subplot\":\"mapbox\",\"type\":\"scattermapbox\"},{\"hovertemplate\":\"<b>%{hovertext}</b><br><br>borough_name=City of Westminster<br>latitude=%{lat}<br>longitude=%{lon}<extra></extra>\",\"hovertext\":[\"City of Westminster\",\"City of Westminster\",\"City of Westminster\",\"City of Westminster\",\"City of Westminster\",\"City of Westminster\",\"City of Westminster\",\"City of Westminster\",\"City of Westminster\",\"City of Westminster\",\"City of Westminster\",\"City of Westminster\",\"City of Westminster\",\"City of Westminster\",\"City of Westminster\",\"City of Westminster\",\"City of Westminster\",\"City of Westminster\",\"City of Westminster\",\"City of Westminster\",\"City of Westminster\",\"City of Westminster\",\"City of Westminster\",\"City of Westminster\",\"City of Westminster\",\"City of Westminster\",\"City of Westminster\",\"City of Westminster\",\"City of Westminster\",\"City of Westminster\",\"City of Westminster\",\"City of Westminster\",\"City of Westminster\",\"City of Westminster\",\"City of Westminster\",\"City of Westminster\",\"City of Westminster\",\"City of Westminster\",\"City of Westminster\",\"City of Westminster\",\"City of Westminster\",\"City of Westminster\",\"City of Westminster\",\"City of Westminster\",\"City of Westminster\",\"City of Westminster\",\"City of Westminster\",\"City of Westminster\",\"City of Westminster\",\"City of Westminster\",\"City of Westminster\",\"City of Westminster\"],\"lat\":[51.51156528850338,51.51517556148136,51.5137962091418,51.51335015913303,51.51350873810073,51.514979885620114,51.49979219073049,51.509670474356206,51.509834514136855,51.512520235984766,51.51085658102539,51.5135573287082,51.5071417909369,51.51201028102943,51.50802525819279,51.513596199676506,51.51488794019928,51.513385386373,51.52224162322516,51.49923633609939,51.51193352420293,51.50859876232428,51.51020844455167,51.521393700386966,51.51301143715263,51.528807349274174,51.52406349493783,51.524957453241264,51.50697185527061,51.49628760576857,51.508634620890895,51.51358639460768,51.513759345414734,51.51270146029003,51.51063759528034,51.51209234480673,51.511568413584925,51.510455525244765,51.51264432776856,51.511850354877566,51.5107165109118,51.51042255432006,51.51131045526986,51.5074768743501,51.51426411438776,51.510510449544526,51.51251524158,51.51178329476097,51.52168049755769,51.50934256806414,51.51067862590072,51.4975144949599],\"legendgroup\":\"City of Westminster\",\"lon\":[-0.1369803321375948,-0.1313182578600293,-0.1296840929642088,-0.1292156292170939,-0.1295693977545588,-0.1418989181508524,-0.1784650568199441,-0.1365103413400923,-0.1332756608705549,-0.1348085638069683,-0.1240835826429859,-0.1242606212540359,-0.131915741504988,-0.1349875350540233,-0.145483659644915,-0.1312339360214543,-0.1345135108576875,-0.1219478454627267,-0.1863270402341235,-0.1436924369635553,-0.1217198378988755,-0.1257033781252389,-0.1352924707492895,-0.1760272038700554,-0.1210409269434265,-0.1560398044120738,-0.1966664278828115,-0.1708692755933803,-0.1291130123474287,-0.1442583146540935,-0.1336126049007627,-0.1204699953287099,-0.1223218172608624,-0.1213418911942063,-0.1244245447812526,-0.125333186067712,-0.1298180350542819,-0.1293880536931398,-0.1290541319289379,-0.1316798572370995,-0.1287871184197946,-0.1278772016378012,-0.128820127726811,-0.1252883963368303,-0.1325328209133474,-0.1333776638543811,-0.1345065921469717,-0.1354004908521479,-0.1862777054157402,-0.13284869232864,-0.1224767365940358,-0.1439493722618853],\"marker\":{\"color\":\"#FFA15A\"},\"mode\":\"markers\",\"name\":\"City of Westminster\",\"showlegend\":true,\"subplot\":\"mapbox\",\"type\":\"scattermapbox\"},{\"hovertemplate\":\"<b>%{hovertext}</b><br><br>borough_name=Southwark<br>latitude=%{lat}<br>longitude=%{lon}<extra></extra>\",\"hovertext\":[\"Southwark\",\"Southwark\",\"Southwark\",\"Southwark\",\"Southwark\",\"Southwark\",\"Southwark\",\"Southwark\",\"Southwark\",\"Southwark\",\"Southwark\",\"Southwark\",\"Southwark\",\"Southwark\",\"Southwark\",\"Southwark\",\"Southwark\",\"Southwark\",\"Southwark\",\"Southwark\",\"Southwark\"],\"lat\":[51.502875561798646,51.4533918452999,51.47751842971464,51.50458885766454,51.48065992012816,51.49832275299785,51.5041449176166,51.47042120636875,51.50862324904411,51.503860599984975,51.50540364069288,51.50517260421037,51.503860599984975,51.49951305784285,51.4982101912105,51.50862324904411,51.50781832827308,51.45529877946817,51.48312387788948,51.50311794932499,51.50517260421037],\"legendgroup\":\"Southwark\",\"lon\":[-0.0438625239809395,-0.0978911721042054,-0.0853062863691102,-0.0828895130426624,-0.0998919415847582,-0.0507684785933427,-0.0788308848323306,-0.0698247345843988,-0.0981810966698339,-0.1033794781082205,-0.0926245760756013,-0.096077228881399,-0.1033794781082205,-0.1002896846270558,-0.0997817034567961,-0.0981810966698339,-0.0978691104432834,-0.0835766920192056,-0.0871743606796013,-0.0875040349723608,-0.096077228881399],\"marker\":{\"color\":\"#19d3f3\"},\"mode\":\"markers\",\"name\":\"Southwark\",\"showlegend\":true,\"subplot\":\"mapbox\",\"type\":\"scattermapbox\"},{\"hovertemplate\":\"<b>%{hovertext}</b><br><br>borough_name=Hackney<br>latitude=%{lat}<br>longitude=%{lon}<extra></extra>\",\"hovertext\":[\"Hackney\",\"Hackney\",\"Hackney\",\"Hackney\",\"Hackney\",\"Hackney\",\"Hackney\",\"Hackney\",\"Hackney\",\"Hackney\",\"Hackney\",\"Hackney\"],\"lat\":[51.52838974209928,51.5394745048292,51.55140177146531,51.527590515925816,51.5616174991879,51.55496024245703,51.54657725787396,51.55063710292275,51.5280300761556,51.53232500662257,51.52838844235856,51.563323449122905],\"legendgroup\":\"Hackney\",\"lon\":[-0.0849628891843733,-0.0831993916364793,-0.0769994663667956,-0.0812891131865167,-0.0860151719374522,-0.0697374416755723,-0.0570851720162678,-0.0443785449736017,-0.0838679841879728,-0.0816091668988306,-0.0849897871512811,-0.0735423492893335],\"marker\":{\"color\":\"#FF6692\"},\"mode\":\"markers\",\"name\":\"Hackney\",\"showlegend\":true,\"subplot\":\"mapbox\",\"type\":\"scattermapbox\"},{\"hovertemplate\":\"<b>%{hovertext}</b><br><br>borough_name=Enfield<br>latitude=%{lat}<br>longitude=%{lon}<extra></extra>\",\"hovertext\":[\"Enfield\",\"Enfield\",\"Enfield\",\"Enfield\"],\"lat\":[51.65033224944441,51.616700680572905,51.62504171624158,51.64493099722316],\"legendgroup\":\"Enfield\",\"lon\":[-0.0823117829464124,-0.0799044577968184,-0.1051494338713945,-0.1468517991390531],\"marker\":{\"color\":\"#B6E880\"},\"mode\":\"markers\",\"name\":\"Enfield\",\"showlegend\":true,\"subplot\":\"mapbox\",\"type\":\"scattermapbox\"},{\"hovertemplate\":\"<b>%{hovertext}</b><br><br>borough_name=Camden<br>latitude=%{lat}<br>longitude=%{lon}<extra></extra>\",\"hovertext\":[\"Camden\",\"Camden\",\"Camden\",\"Camden\",\"Camden\",\"Camden\",\"Camden\",\"Camden\",\"Camden\",\"Camden\",\"Camden\",\"Camden\",\"Camden\",\"Camden\",\"Camden\",\"Camden\",\"Camden\",\"Camden\",\"Camden\",\"Camden\",\"Camden\",\"Camden\",\"Camden\",\"Camden\"],\"lat\":[51.52583300840003,51.54065446198819,51.53549101727448,51.5167859675125,51.52030279323144,51.53604906665467,51.54861882368309,51.5174718389579,51.52915480473698,51.54483350251209,51.51402121910827,51.54480978684451,51.54354905371327,51.57016550755269,51.544562560495,51.51456818000892,51.5254148784524,51.51594210606206,51.52689881428192,51.55628230425253,51.53743114924061,51.527810909274656,51.53474842305999,51.51513726807799],\"legendgroup\":\"Camden\",\"lon\":[-0.1345818622860995,-0.1455541082782508,-0.1408764590600151,-0.127702348826003,-0.1199192001284105,-0.1357639854810851,-0.1414227243203092,-0.1312480133024004,-0.129717427755678,-0.1757821912485239,-0.1279882639569663,-0.1550235190574705,-0.1528914400038746,-0.1449112401195862,-0.1739763621958205,-0.1273173410795329,-0.143924929318968,-0.1243786598230061,-0.1399723532255683,-0.1800411954705527,-0.1251960787009451,-0.1305653111189305,-0.123577177619613,-0.1195991146904622],\"marker\":{\"color\":\"#FF97FF\"},\"mode\":\"markers\",\"name\":\"Camden\",\"showlegend\":true,\"subplot\":\"mapbox\",\"type\":\"scattermapbox\"},{\"hovertemplate\":\"<b>%{hovertext}</b><br><br>borough_name=Bromley<br>latitude=%{lat}<br>longitude=%{lon}<extra></extra>\",\"hovertext\":[\"Bromley\",\"Bromley\",\"Bromley\",\"Bromley\"],\"lat\":[51.41858405789888,51.40428911545257,51.4082146673247,51.3734225856746],\"legendgroup\":\"Bromley\",\"lon\":[-0.0622302193400366,0.0128556647161554,0.0136324981080366,-0.0119437554534555],\"marker\":{\"color\":\"#FECB52\"},\"mode\":\"markers\",\"name\":\"Bromley\",\"showlegend\":true,\"subplot\":\"mapbox\",\"type\":\"scattermapbox\"},{\"hovertemplate\":\"<b>%{hovertext}</b><br><br>borough_name=Haringey<br>latitude=%{lat}<br>longitude=%{lon}<extra></extra>\",\"hovertext\":[\"Haringey\",\"Haringey\",\"Haringey\",\"Haringey\",\"Haringey\",\"Haringey\",\"Haringey\",\"Haringey\"],\"lat\":[51.57246809026717,51.57665106807653,51.5949839472599,51.59065970940856,51.57658776530412,51.58808292873386,51.577612608047424,51.582338135018],\"legendgroup\":\"Haringey\",\"lon\":[-0.151935654699275,-0.1455785875011868,-0.1321109644549455,-0.0627456486409583,-0.1234881880303057,-0.0740086771829827,-0.1479752921299811,-0.1215486695651695],\"marker\":{\"color\":\"#636efa\"},\"mode\":\"markers\",\"name\":\"Haringey\",\"showlegend\":true,\"subplot\":\"mapbox\",\"type\":\"scattermapbox\"},{\"hovertemplate\":\"<b>%{hovertext}</b><br><br>borough_name=Tower Hamlets<br>latitude=%{lat}<br>longitude=%{lon}<extra></extra>\",\"hovertext\":[\"Tower Hamlets\",\"Tower Hamlets\",\"Tower Hamlets\",\"Tower Hamlets\",\"Tower Hamlets\",\"Tower Hamlets\",\"Tower Hamlets\"],\"lat\":[51.5111242301771,51.51423921425979,51.49268042767557,51.54300955723465,51.53413798560607,51.51700361771773,51.524742821169056],\"legendgroup\":\"Tower Hamlets\",\"lon\":[-0.0685509815231488,-0.0422205533617967,-0.0258168999093897,-0.0243590223376761,-0.0400691300878303,-0.0739235929747063,-0.0754126071062798],\"marker\":{\"color\":\"#EF553B\"},\"mode\":\"markers\",\"name\":\"Tower Hamlets\",\"showlegend\":true,\"subplot\":\"mapbox\",\"type\":\"scattermapbox\"},{\"hovertemplate\":\"<b>%{hovertext}</b><br><br>borough_name=Ealing<br>latitude=%{lat}<br>longitude=%{lon}<extra></extra>\",\"hovertext\":[\"Ealing\",\"Ealing\"],\"lat\":[51.509917155602686,51.51221678004136],\"legendgroup\":\"Ealing\",\"lon\":[-0.3054568839768728,-0.3112423100235312],\"marker\":{\"color\":\"#00cc96\"},\"mode\":\"markers\",\"name\":\"Ealing\",\"showlegend\":true,\"subplot\":\"mapbox\",\"type\":\"scattermapbox\"},{\"hovertemplate\":\"<b>%{hovertext}</b><br><br>borough_name=Hammersmith and Fulham<br>latitude=%{lat}<br>longitude=%{lon}<extra></extra>\",\"hovertext\":[\"Hammersmith and Fulham\",\"Hammersmith and Fulham\",\"Hammersmith and Fulham\",\"Hammersmith and Fulham\",\"Hammersmith and Fulham\",\"Hammersmith and Fulham\",\"Hammersmith and Fulham\",\"Hammersmith and Fulham\",\"Hammersmith and Fulham\",\"Hammersmith and Fulham\"],\"lat\":[51.49375939028386,51.49099868707071,51.50393746473858,51.5055342950238,51.48963907053891,51.48990811744111,51.48990811744111,51.49106287784542,51.49403513904844,51.51831411840472],\"legendgroup\":\"Hammersmith and Fulham\",\"lon\":[-0.2278771226040648,-0.2270103296328433,-0.226070492208498,-0.227045430782263,-0.2123375178896296,-0.2081939313937273,-0.2081939313937273,-0.2155232548741996,-0.2390150557381748,-0.2260017480306522],\"marker\":{\"color\":\"#ab63fa\"},\"mode\":\"markers\",\"name\":\"Hammersmith and Fulham\",\"showlegend\":true,\"subplot\":\"mapbox\",\"type\":\"scattermapbox\"},{\"hovertemplate\":\"<b>%{hovertext}</b><br><br>borough_name=Merton<br>latitude=%{lat}<br>longitude=%{lon}<extra></extra>\",\"hovertext\":[\"Merton\",\"Merton\",\"Merton\",\"Merton\",\"Merton\",\"Merton\"],\"lat\":[51.41980862790408,51.420198742717,51.42374315577823,51.42244792716742,51.411899082908896,51.41351460609228],\"legendgroup\":\"Merton\",\"lon\":[-0.2028957527476778,-0.1960784350015646,-0.208465413144177,-0.2277074848303416,-0.2314599239229045,-0.1847662126775811],\"marker\":{\"color\":\"#FFA15A\"},\"mode\":\"markers\",\"name\":\"Merton\",\"showlegend\":true,\"subplot\":\"mapbox\",\"type\":\"scattermapbox\"},{\"hovertemplate\":\"<b>%{hovertext}</b><br><br>borough_name=City and County of the City of London<br>latitude=%{lat}<br>longitude=%{lon}<extra></extra>\",\"hovertext\":[\"City and County of the City of London\",\"City and County of the City of London\",\"City and County of the City of London\",\"City and County of the City of London\",\"City and County of the City of London\"],\"lat\":[51.51401961793313,51.52054718619129,51.520470169199285,51.51153824416853,51.51334896595911],\"legendgroup\":\"City and County of the City of London\",\"lon\":[-0.1066033891951477,-0.0926828983090703,-0.0957136054219065,-0.1009450950377587,-0.0857644166920904],\"marker\":{\"color\":\"#19d3f3\"},\"mode\":\"markers\",\"name\":\"City and County of the City of London\",\"showlegend\":true,\"subplot\":\"mapbox\",\"type\":\"scattermapbox\"},{\"hovertemplate\":\"<b>%{hovertext}</b><br><br>borough_name=Barking and Dagenham<br>latitude=%{lat}<br>longitude=%{lon}<extra></extra>\",\"hovertext\":[\"Barking and Dagenham\"],\"lat\":[51.53639032185141],\"legendgroup\":\"Barking and Dagenham\",\"lon\":[0.0757022762528122],\"marker\":{\"color\":\"#FF6692\"},\"mode\":\"markers\",\"name\":\"Barking and Dagenham\",\"showlegend\":true,\"subplot\":\"mapbox\",\"type\":\"scattermapbox\"},{\"hovertemplate\":\"<b>%{hovertext}</b><br><br>borough_name=Wandsworth<br>latitude=%{lat}<br>longitude=%{lon}<extra></extra>\",\"hovertext\":[\"Wandsworth\",\"Wandsworth\",\"Wandsworth\",\"Wandsworth\",\"Wandsworth\",\"Wandsworth\",\"Wandsworth\"],\"lat\":[51.44228795092532,51.46567840164486,51.48265903161796,51.47244361102749,51.48170707926796,51.4610265174036,51.48312519057925],\"legendgroup\":\"Wandsworth\",\"lon\":[-0.189439175217191,-0.1624148223188913,-0.139325264945663,-0.1672828352104146,-0.1422729121010573,-0.2217031707443814,-0.1273824526770562],\"marker\":{\"color\":\"#B6E880\"},\"mode\":\"markers\",\"name\":\"Wandsworth\",\"showlegend\":true,\"subplot\":\"mapbox\",\"type\":\"scattermapbox\"},{\"hovertemplate\":\"<b>%{hovertext}</b><br><br>borough_name=Richmond upon Thames<br>latitude=%{lat}<br>longitude=%{lon}<extra></extra>\",\"hovertext\":[\"Richmond upon Thames\",\"Richmond upon Thames\",\"Richmond upon Thames\",\"Richmond upon Thames\",\"Richmond upon Thames\",\"Richmond upon Thames\",\"Richmond upon Thames\",\"Richmond upon Thames\"],\"lat\":[51.408777676331695,51.42763904969559,51.46257946526371,51.41950034239001,51.44699382936108,51.43617233565898,51.46489827440174,51.47279382625401],\"legendgroup\":\"Richmond upon Thames\",\"lon\":[-0.3092911923487854,-0.3565477155951328,-0.3053888774137911,-0.3159128358253318,-0.3276642609516128,-0.3330448489345589,-0.3034602071545642,-0.2484281321195059],\"marker\":{\"color\":\"#FF97FF\"},\"mode\":\"markers\",\"name\":\"Richmond upon Thames\",\"showlegend\":true,\"subplot\":\"mapbox\",\"type\":\"scattermapbox\"},{\"hovertemplate\":\"<b>%{hovertext}</b><br><br>borough_name=Barnet<br>latitude=%{lat}<br>longitude=%{lon}<extra></extra>\",\"hovertext\":[\"Barnet\",\"Barnet\",\"Barnet\"],\"lat\":[51.63269014380219,51.653603403545866,51.61346126926521],\"legendgroup\":\"Barnet\",\"lon\":[-0.1752546620875067,-0.2009638584104174,-0.1778996827887166],\"marker\":{\"color\":\"#FECB52\"},\"mode\":\"markers\",\"name\":\"Barnet\",\"showlegend\":true,\"subplot\":\"mapbox\",\"type\":\"scattermapbox\"},{\"hovertemplate\":\"<b>%{hovertext}</b><br><br>borough_name=Brent<br>latitude=%{lat}<br>longitude=%{lon}<extra></extra>\",\"hovertext\":[\"Brent\"],\"lat\":[51.54423111173105],\"legendgroup\":\"Brent\",\"lon\":[-0.2019935619240467],\"marker\":{\"color\":\"#636efa\"},\"mode\":\"markers\",\"name\":\"Brent\",\"showlegend\":true,\"subplot\":\"mapbox\",\"type\":\"scattermapbox\"},{\"hovertemplate\":\"<b>%{hovertext}</b><br><br>borough_name=Kensington and Chelsea<br>latitude=%{lat}<br>longitude=%{lon}<extra></extra>\",\"hovertext\":[\"Kensington and Chelsea\",\"Kensington and Chelsea\",\"Kensington and Chelsea\",\"Kensington and Chelsea\",\"Kensington and Chelsea\",\"Kensington and Chelsea\",\"Kensington and Chelsea\",\"Kensington and Chelsea\",\"Kensington and Chelsea\"],\"lat\":[51.48215635297819,51.50115651634619,51.508996446797,51.51721062864502,51.49312267230601,51.49394057575294,51.49115439458023,51.51003836954936,51.48666972967394],\"legendgroup\":\"Kensington and Chelsea\",\"lon\":[-0.1812371902860874,-0.2044493434607114,-0.2004850758814267,-0.2031439631968455,-0.1579989035695666,-0.1591038148043436,-0.1851572107268425,-0.199262214493141,-0.1911104669773156],\"marker\":{\"color\":\"#EF553B\"},\"mode\":\"markers\",\"name\":\"Kensington and Chelsea\",\"showlegend\":true,\"subplot\":\"mapbox\",\"type\":\"scattermapbox\"},{\"hovertemplate\":\"<b>%{hovertext}</b><br><br>borough_name=Islington<br>latitude=%{lat}<br>longitude=%{lon}<extra></extra>\",\"hovertext\":[\"Islington\",\"Islington\",\"Islington\",\"Islington\",\"Islington\",\"Islington\",\"Islington\",\"Islington\",\"Islington\",\"Islington\",\"Islington\",\"Islington\",\"Islington\",\"Islington\",\"Islington\"],\"lat\":[51.53995317672141,51.53663920388601,51.54477968774732,51.53952324655064,51.529937122450505,51.53813038757389,51.53191794150089,51.54654050482146,51.53849633316568,51.54408175712269,51.5476061863884,51.54924609614783,51.561773501942255,51.56617242777288,51.51992929438563],\"legendgroup\":\"Islington\",\"lon\":[-0.1055700654296319,-0.1125333772504998,-0.1043313066724879,-0.1028773178176725,-0.107874624745915,-0.0885456507562827,-0.1074607094432439,-0.1031334748855602,-0.1044771408568569,-0.1050952125575892,-0.0769432189606193,-0.1231965660924952,-0.1171688099019989,-0.1100208183188951,-0.086814448962657],\"marker\":{\"color\":\"#00cc96\"},\"mode\":\"markers\",\"name\":\"Islington\",\"showlegend\":true,\"subplot\":\"mapbox\",\"type\":\"scattermapbox\"},{\"hovertemplate\":\"<b>%{hovertext}</b><br><br>borough_name=Hillingdon<br>latitude=%{lat}<br>longitude=%{lon}<extra></extra>\",\"hovertext\":[\"Hillingdon\",\"Hillingdon\",\"Hillingdon\"],\"lat\":[51.52155420583695,51.5794431637199,51.5613488710283],\"legendgroup\":\"Hillingdon\",\"lon\":[-0.4233741268697176,-0.4303189549664067,-0.4414429958323008],\"marker\":{\"color\":\"#ab63fa\"},\"mode\":\"markers\",\"name\":\"Hillingdon\",\"showlegend\":true,\"subplot\":\"mapbox\",\"type\":\"scattermapbox\"},{\"hovertemplate\":\"<b>%{hovertext}</b><br><br>borough_name=Lambeth<br>latitude=%{lat}<br>longitude=%{lon}<extra></extra>\",\"hovertext\":[\"Lambeth\",\"Lambeth\",\"Lambeth\",\"Lambeth\",\"Lambeth\",\"Lambeth\",\"Lambeth\",\"Lambeth\",\"Lambeth\",\"Lambeth\",\"Lambeth\",\"Lambeth\",\"Lambeth\",\"Lambeth\",\"Lambeth\",\"Lambeth\",\"Lambeth\",\"Lambeth\"],\"lat\":[51.50274611624612,51.50417225193464,51.47648579165168,51.50717503787731,51.50499811222206,51.50247047745965,51.50460338652723,51.46690969485925,51.48700390363328,51.487220086722886,51.46618085287746,51.50378940848611,51.43917353860401,51.4636699274074,51.484273221589945,51.50244960180335,51.507377052777706,51.50354554098729],\"legendgroup\":\"Lambeth\",\"lon\":[-0.1138885220282046,-0.1208318132224685,-0.1328234480585574,-0.1175526483088759,-0.1135793983824058,-0.1175560574023987,-0.111517692884766,-0.138482218652851,-0.1214052221812466,-0.1096583705465674,-0.1276322277129228,-0.1088747366618888,-0.1284747326243773,-0.1445454053248059,-0.1187523576667091,-0.1106267361802584,-0.1156683381597779,-0.1083199847693592],\"marker\":{\"color\":\"#FFA15A\"},\"mode\":\"markers\",\"name\":\"Lambeth\",\"showlegend\":true,\"subplot\":\"mapbox\",\"type\":\"scattermapbox\"},{\"hovertemplate\":\"<b>%{hovertext}</b><br><br>borough_name=Newham<br>latitude=%{lat}<br>longitude=%{lon}<extra></extra>\",\"hovertext\":[\"Newham\",\"Newham\",\"Newham\",\"Newham\"],\"lat\":[51.502939622424655,51.54344505535073,51.54302209998728,51.53441802465949],\"legendgroup\":\"Newham\",\"lon\":[0.0411837884308184,-0.0001577842179673,-0.0006377019617914,0.0259742183292613],\"marker\":{\"color\":\"#19d3f3\"},\"mode\":\"markers\",\"name\":\"Newham\",\"showlegend\":true,\"subplot\":\"mapbox\",\"type\":\"scattermapbox\"},{\"hovertemplate\":\"<b>%{hovertext}</b><br><br>borough_name=Bexley<br>latitude=%{lat}<br>longitude=%{lon}<extra></extra>\",\"hovertext\":[\"Bexley\",\"Bexley\",\"Bexley\",\"Bexley\"],\"lat\":[51.46207494816597,51.43979204291358,51.48217555603904,51.456057832683626],\"legendgroup\":\"Bexley\",\"lon\":[0.125228844495745,0.1048423450296953,0.1793888447733876,0.1883775691691815],\"marker\":{\"color\":\"#FF6692\"},\"mode\":\"markers\",\"name\":\"Bexley\",\"showlegend\":true,\"subplot\":\"mapbox\",\"type\":\"scattermapbox\"},{\"hovertemplate\":\"<b>%{hovertext}</b><br><br>borough_name=Croydon<br>latitude=%{lat}<br>longitude=%{lon}<extra></extra>\",\"hovertext\":[\"Croydon\",\"Croydon\",\"Croydon\"],\"lat\":[51.3726881079965,51.37305114926197,51.40091910249431],\"legendgroup\":\"Croydon\",\"lon\":[-0.1026983758256157,-0.0973829168816656,-0.077179030596969],\"marker\":{\"color\":\"#B6E880\"},\"mode\":\"markers\",\"name\":\"Croydon\",\"showlegend\":true,\"subplot\":\"mapbox\",\"type\":\"scattermapbox\"},{\"hovertemplate\":\"<b>%{hovertext}</b><br><br>borough_name=Hounslow<br>latitude=%{lat}<br>longitude=%{lon}<extra></extra>\",\"hovertext\":[\"Hounslow\",\"Hounslow\",\"Hounslow\",\"Hounslow\",\"Hounslow\",\"Hounslow\"],\"lat\":[51.49643256087536,51.46864495920792,51.46928924053546,51.48627848953497,51.49647058023351,51.48660866624159],\"legendgroup\":\"Hounslow\",\"lon\":[-0.2550565711459061,-0.3646055759918872,-0.3272250274467423,-0.2996288588843563,-0.2540036758023545,-0.2589226667295163],\"marker\":{\"color\":\"#FF97FF\"},\"mode\":\"markers\",\"name\":\"Hounslow\",\"showlegend\":true,\"subplot\":\"mapbox\",\"type\":\"scattermapbox\"},{\"hovertemplate\":\"<b>%{hovertext}</b><br><br>borough_name=Harrow<br>latitude=%{lat}<br>longitude=%{lon}<extra></extra>\",\"hovertext\":[\"Harrow\",\"Harrow\"],\"lat\":[51.57331898548574,51.60897493234853],\"legendgroup\":\"Harrow\",\"lon\":[-0.3413007325866644,-0.3640872283515281],\"marker\":{\"color\":\"#FECB52\"},\"mode\":\"markers\",\"name\":\"Harrow\",\"showlegend\":true,\"subplot\":\"mapbox\",\"type\":\"scattermapbox\"},{\"hovertemplate\":\"<b>%{hovertext}</b><br><br>borough_name=Waltham Forest<br>latitude=%{lat}<br>longitude=%{lon}<extra></extra>\",\"hovertext\":[\"Waltham Forest\",\"Waltham Forest\",\"Waltham Forest\",\"Waltham Forest\",\"Waltham Forest\"],\"lat\":[51.58609344906432,51.58584387846819,51.58700167476712,51.59167048731068,51.58748660651207],\"legendgroup\":\"Waltham Forest\",\"lon\":[0.0077587917504553,-0.0199909263431504,-0.0220189058315624,-0.0150917803053881,-0.0219549590383679],\"marker\":{\"color\":\"#636efa\"},\"mode\":\"markers\",\"name\":\"Waltham Forest\",\"showlegend\":true,\"subplot\":\"mapbox\",\"type\":\"scattermapbox\"},{\"hovertemplate\":\"<b>%{hovertext}</b><br><br>borough_name=Redbridge<br>latitude=%{lat}<br>longitude=%{lon}<extra></extra>\",\"hovertext\":[\"Redbridge\",\"Redbridge\"],\"lat\":[51.598789500602805,51.560525556756566],\"legendgroup\":\"Redbridge\",\"lon\":[0.0253996438691761,0.071015405724945],\"marker\":{\"color\":\"#EF553B\"},\"mode\":\"markers\",\"name\":\"Redbridge\",\"showlegend\":true,\"subplot\":\"mapbox\",\"type\":\"scattermapbox\"},{\"hovertemplate\":\"<b>%{hovertext}</b><br><br>borough_name=Havering<br>latitude=%{lat}<br>longitude=%{lon}<extra></extra>\",\"hovertext\":[\"Havering\",\"Havering\"],\"lat\":[51.5657199363651,51.57665761575345],\"legendgroup\":\"Havering\",\"lon\":[0.2177905443933342,0.1836022807590062],\"marker\":{\"color\":\"#00cc96\"},\"mode\":\"markers\",\"name\":\"Havering\",\"showlegend\":true,\"subplot\":\"mapbox\",\"type\":\"scattermapbox\"}],                        {\"template\":{\"data\":{\"histogram2dcontour\":[{\"type\":\"histogram2dcontour\",\"colorbar\":{\"outlinewidth\":0,\"ticks\":\"\"},\"colorscale\":[[0.0,\"#0d0887\"],[0.1111111111111111,\"#46039f\"],[0.2222222222222222,\"#7201a8\"],[0.3333333333333333,\"#9c179e\"],[0.4444444444444444,\"#bd3786\"],[0.5555555555555556,\"#d8576b\"],[0.6666666666666666,\"#ed7953\"],[0.7777777777777778,\"#fb9f3a\"],[0.8888888888888888,\"#fdca26\"],[1.0,\"#f0f921\"]]}],\"choropleth\":[{\"type\":\"choropleth\",\"colorbar\":{\"outlinewidth\":0,\"ticks\":\"\"}}],\"histogram2d\":[{\"type\":\"histogram2d\",\"colorbar\":{\"outlinewidth\":0,\"ticks\":\"\"},\"colorscale\":[[0.0,\"#0d0887\"],[0.1111111111111111,\"#46039f\"],[0.2222222222222222,\"#7201a8\"],[0.3333333333333333,\"#9c179e\"],[0.4444444444444444,\"#bd3786\"],[0.5555555555555556,\"#d8576b\"],[0.6666666666666666,\"#ed7953\"],[0.7777777777777778,\"#fb9f3a\"],[0.8888888888888888,\"#fdca26\"],[1.0,\"#f0f921\"]]}],\"heatmap\":[{\"type\":\"heatmap\",\"colorbar\":{\"outlinewidth\":0,\"ticks\":\"\"},\"colorscale\":[[0.0,\"#0d0887\"],[0.1111111111111111,\"#46039f\"],[0.2222222222222222,\"#7201a8\"],[0.3333333333333333,\"#9c179e\"],[0.4444444444444444,\"#bd3786\"],[0.5555555555555556,\"#d8576b\"],[0.6666666666666666,\"#ed7953\"],[0.7777777777777778,\"#fb9f3a\"],[0.8888888888888888,\"#fdca26\"],[1.0,\"#f0f921\"]]}],\"heatmapgl\":[{\"type\":\"heatmapgl\",\"colorbar\":{\"outlinewidth\":0,\"ticks\":\"\"},\"colorscale\":[[0.0,\"#0d0887\"],[0.1111111111111111,\"#46039f\"],[0.2222222222222222,\"#7201a8\"],[0.3333333333333333,\"#9c179e\"],[0.4444444444444444,\"#bd3786\"],[0.5555555555555556,\"#d8576b\"],[0.6666666666666666,\"#ed7953\"],[0.7777777777777778,\"#fb9f3a\"],[0.8888888888888888,\"#fdca26\"],[1.0,\"#f0f921\"]]}],\"contourcarpet\":[{\"type\":\"contourcarpet\",\"colorbar\":{\"outlinewidth\":0,\"ticks\":\"\"}}],\"contour\":[{\"type\":\"contour\",\"colorbar\":{\"outlinewidth\":0,\"ticks\":\"\"},\"colorscale\":[[0.0,\"#0d0887\"],[0.1111111111111111,\"#46039f\"],[0.2222222222222222,\"#7201a8\"],[0.3333333333333333,\"#9c179e\"],[0.4444444444444444,\"#bd3786\"],[0.5555555555555556,\"#d8576b\"],[0.6666666666666666,\"#ed7953\"],[0.7777777777777778,\"#fb9f3a\"],[0.8888888888888888,\"#fdca26\"],[1.0,\"#f0f921\"]]}],\"surface\":[{\"type\":\"surface\",\"colorbar\":{\"outlinewidth\":0,\"ticks\":\"\"},\"colorscale\":[[0.0,\"#0d0887\"],[0.1111111111111111,\"#46039f\"],[0.2222222222222222,\"#7201a8\"],[0.3333333333333333,\"#9c179e\"],[0.4444444444444444,\"#bd3786\"],[0.5555555555555556,\"#d8576b\"],[0.6666666666666666,\"#ed7953\"],[0.7777777777777778,\"#fb9f3a\"],[0.8888888888888888,\"#fdca26\"],[1.0,\"#f0f921\"]]}],\"mesh3d\":[{\"type\":\"mesh3d\",\"colorbar\":{\"outlinewidth\":0,\"ticks\":\"\"}}],\"scatter\":[{\"fillpattern\":{\"fillmode\":\"overlay\",\"size\":10,\"solidity\":0.2},\"type\":\"scatter\"}],\"parcoords\":[{\"type\":\"parcoords\",\"line\":{\"colorbar\":{\"outlinewidth\":0,\"ticks\":\"\"}}}],\"scatterpolargl\":[{\"type\":\"scatterpolargl\",\"marker\":{\"colorbar\":{\"outlinewidth\":0,\"ticks\":\"\"}}}],\"bar\":[{\"error_x\":{\"color\":\"#2a3f5f\"},\"error_y\":{\"color\":\"#2a3f5f\"},\"marker\":{\"line\":{\"color\":\"#E5ECF6\",\"width\":0.5},\"pattern\":{\"fillmode\":\"overlay\",\"size\":10,\"solidity\":0.2}},\"type\":\"bar\"}],\"scattergeo\":[{\"type\":\"scattergeo\",\"marker\":{\"colorbar\":{\"outlinewidth\":0,\"ticks\":\"\"}}}],\"scatterpolar\":[{\"type\":\"scatterpolar\",\"marker\":{\"colorbar\":{\"outlinewidth\":0,\"ticks\":\"\"}}}],\"histogram\":[{\"marker\":{\"pattern\":{\"fillmode\":\"overlay\",\"size\":10,\"solidity\":0.2}},\"type\":\"histogram\"}],\"scattergl\":[{\"type\":\"scattergl\",\"marker\":{\"colorbar\":{\"outlinewidth\":0,\"ticks\":\"\"}}}],\"scatter3d\":[{\"type\":\"scatter3d\",\"line\":{\"colorbar\":{\"outlinewidth\":0,\"ticks\":\"\"}},\"marker\":{\"colorbar\":{\"outlinewidth\":0,\"ticks\":\"\"}}}],\"scattermapbox\":[{\"type\":\"scattermapbox\",\"marker\":{\"colorbar\":{\"outlinewidth\":0,\"ticks\":\"\"}}}],\"scatterternary\":[{\"type\":\"scatterternary\",\"marker\":{\"colorbar\":{\"outlinewidth\":0,\"ticks\":\"\"}}}],\"scattercarpet\":[{\"type\":\"scattercarpet\",\"marker\":{\"colorbar\":{\"outlinewidth\":0,\"ticks\":\"\"}}}],\"carpet\":[{\"aaxis\":{\"endlinecolor\":\"#2a3f5f\",\"gridcolor\":\"white\",\"linecolor\":\"white\",\"minorgridcolor\":\"white\",\"startlinecolor\":\"#2a3f5f\"},\"baxis\":{\"endlinecolor\":\"#2a3f5f\",\"gridcolor\":\"white\",\"linecolor\":\"white\",\"minorgridcolor\":\"white\",\"startlinecolor\":\"#2a3f5f\"},\"type\":\"carpet\"}],\"table\":[{\"cells\":{\"fill\":{\"color\":\"#EBF0F8\"},\"line\":{\"color\":\"white\"}},\"header\":{\"fill\":{\"color\":\"#C8D4E3\"},\"line\":{\"color\":\"white\"}},\"type\":\"table\"}],\"barpolar\":[{\"marker\":{\"line\":{\"color\":\"#E5ECF6\",\"width\":0.5},\"pattern\":{\"fillmode\":\"overlay\",\"size\":10,\"solidity\":0.2}},\"type\":\"barpolar\"}],\"pie\":[{\"automargin\":true,\"type\":\"pie\"}]},\"layout\":{\"autotypenumbers\":\"strict\",\"colorway\":[\"#636efa\",\"#EF553B\",\"#00cc96\",\"#ab63fa\",\"#FFA15A\",\"#19d3f3\",\"#FF6692\",\"#B6E880\",\"#FF97FF\",\"#FECB52\"],\"font\":{\"color\":\"#2a3f5f\"},\"hovermode\":\"closest\",\"hoverlabel\":{\"align\":\"left\"},\"paper_bgcolor\":\"white\",\"plot_bgcolor\":\"#E5ECF6\",\"polar\":{\"bgcolor\":\"#E5ECF6\",\"angularaxis\":{\"gridcolor\":\"white\",\"linecolor\":\"white\",\"ticks\":\"\"},\"radialaxis\":{\"gridcolor\":\"white\",\"linecolor\":\"white\",\"ticks\":\"\"}},\"ternary\":{\"bgcolor\":\"#E5ECF6\",\"aaxis\":{\"gridcolor\":\"white\",\"linecolor\":\"white\",\"ticks\":\"\"},\"baxis\":{\"gridcolor\":\"white\",\"linecolor\":\"white\",\"ticks\":\"\"},\"caxis\":{\"gridcolor\":\"white\",\"linecolor\":\"white\",\"ticks\":\"\"}},\"coloraxis\":{\"colorbar\":{\"outlinewidth\":0,\"ticks\":\"\"}},\"colorscale\":{\"sequential\":[[0.0,\"#0d0887\"],[0.1111111111111111,\"#46039f\"],[0.2222222222222222,\"#7201a8\"],[0.3333333333333333,\"#9c179e\"],[0.4444444444444444,\"#bd3786\"],[0.5555555555555556,\"#d8576b\"],[0.6666666666666666,\"#ed7953\"],[0.7777777777777778,\"#fb9f3a\"],[0.8888888888888888,\"#fdca26\"],[1.0,\"#f0f921\"]],\"sequentialminus\":[[0.0,\"#0d0887\"],[0.1111111111111111,\"#46039f\"],[0.2222222222222222,\"#7201a8\"],[0.3333333333333333,\"#9c179e\"],[0.4444444444444444,\"#bd3786\"],[0.5555555555555556,\"#d8576b\"],[0.6666666666666666,\"#ed7953\"],[0.7777777777777778,\"#fb9f3a\"],[0.8888888888888888,\"#fdca26\"],[1.0,\"#f0f921\"]],\"diverging\":[[0,\"#8e0152\"],[0.1,\"#c51b7d\"],[0.2,\"#de77ae\"],[0.3,\"#f1b6da\"],[0.4,\"#fde0ef\"],[0.5,\"#f7f7f7\"],[0.6,\"#e6f5d0\"],[0.7,\"#b8e186\"],[0.8,\"#7fbc41\"],[0.9,\"#4d9221\"],[1,\"#276419\"]]},\"xaxis\":{\"gridcolor\":\"white\",\"linecolor\":\"white\",\"ticks\":\"\",\"title\":{\"standoff\":15},\"zerolinecolor\":\"white\",\"automargin\":true,\"zerolinewidth\":2},\"yaxis\":{\"gridcolor\":\"white\",\"linecolor\":\"white\",\"ticks\":\"\",\"title\":{\"standoff\":15},\"zerolinecolor\":\"white\",\"automargin\":true,\"zerolinewidth\":2},\"scene\":{\"xaxis\":{\"backgroundcolor\":\"#E5ECF6\",\"gridcolor\":\"white\",\"linecolor\":\"white\",\"showbackground\":true,\"ticks\":\"\",\"zerolinecolor\":\"white\",\"gridwidth\":2},\"yaxis\":{\"backgroundcolor\":\"#E5ECF6\",\"gridcolor\":\"white\",\"linecolor\":\"white\",\"showbackground\":true,\"ticks\":\"\",\"zerolinecolor\":\"white\",\"gridwidth\":2},\"zaxis\":{\"backgroundcolor\":\"#E5ECF6\",\"gridcolor\":\"white\",\"linecolor\":\"white\",\"showbackground\":true,\"ticks\":\"\",\"zerolinecolor\":\"white\",\"gridwidth\":2}},\"shapedefaults\":{\"line\":{\"color\":\"#2a3f5f\"}},\"annotationdefaults\":{\"arrowcolor\":\"#2a3f5f\",\"arrowhead\":0,\"arrowwidth\":1},\"geo\":{\"bgcolor\":\"white\",\"landcolor\":\"#E5ECF6\",\"subunitcolor\":\"white\",\"showland\":true,\"showlakes\":true,\"lakecolor\":\"white\"},\"title\":{\"x\":0.05},\"mapbox\":{\"style\":\"light\"}}},\"mapbox\":{\"domain\":{\"x\":[0.0,1.0],\"y\":[0.0,1.0]},\"center\":{\"lat\":51.5074,\"lon\":-0.1276},\"zoom\":10,\"style\":\"carto-positron\",\"bearing\":0,\"pitch\":0},\"legend\":{\"title\":{\"text\":\"borough_name\"},\"tracegroupgap\":0},\"title\":{\"text\":\"London Theatres by Borough\"},\"margin\":{\"l\":0,\"r\":0,\"t\":30,\"b\":0}},                        {\"responsive\": true}                    ).then(function(){\n",
       "                            \n",
       "var gd = document.getElementById('e0999e1e-141b-4f8a-b9ca-016a1b9d8bf3');\n",
       "var x = new MutationObserver(function (mutations, observer) {{\n",
       "        var display = window.getComputedStyle(gd).display;\n",
       "        if (!display || display === 'none') {{\n",
       "            console.log([gd, 'removed!']);\n",
       "            Plotly.purge(gd);\n",
       "            observer.disconnect();\n",
       "        }}\n",
       "}});\n",
       "\n",
       "// Listen for the removal of the full notebook cells\n",
       "var notebookContainer = gd.closest('#notebook-container');\n",
       "if (notebookContainer) {{\n",
       "    x.observe(notebookContainer, {childList: true});\n",
       "}}\n",
       "\n",
       "// Listen for the clearing of the current output cell\n",
       "var outputEl = gd.closest('.output');\n",
       "if (outputEl) {{\n",
       "    x.observe(outputEl, {childList: true});\n",
       "}}\n",
       "\n",
       "                        })                };                });            </script>        </div>"
      ]
     },
     "metadata": {},
     "output_type": "display_data"
    }
   ],
   "source": [
    "import pandas as pd\n",
    "import plotly.express as px\n",
    "\n",
    "# Read the CSV file\n",
    "data = pd.read_csv('../data-raw/london_theatres.csv')\n",
    "\n",
    "# Create a scatter plot using Plotly\n",
    "fig = px.scatter_mapbox(\n",
    "    data,\n",
    "    lat='latitude',\n",
    "    lon='longitude',\n",
    "    color='borough_name',\n",
    "    hover_name='borough_name',\n",
    "    mapbox_style='carto-positron',\n",
    "    zoom=10,\n",
    "    center={'lat': 51.5074, 'lon': -0.1276},\n",
    "    title='London Theatres by Borough'\n",
    ")\n",
    "\n",
    "# Update layout properties\n",
    "fig.update_layout(\n",
    "    margin={'l': 0, 'r': 0, 't': 30, 'b': 0},\n",
    "    mapbox=dict(\n",
    "        bearing=0,\n",
    "        pitch=0,\n",
    "        style='carto-positron'\n",
    "    )\n",
    ")\n",
    "\n",
    "# Display the plot\n",
    "fig.show()"
   ]
  },
  {
   "cell_type": "code",
   "execution_count": 19,
   "id": "416a6e57",
   "metadata": {},
   "outputs": [],
   "source": [
    "fig.write_html('../reports/london_theatres.html')"
   ]
  }
 ],
 "metadata": {
  "kernelspec": {
   "display_name": "Python 3 (ipykernel)",
   "language": "python",
   "name": "python3"
  },
  "language_info": {
   "codemirror_mode": {
    "name": "ipython",
    "version": 3
   },
   "file_extension": ".py",
   "mimetype": "text/x-python",
   "name": "python",
   "nbconvert_exporter": "python",
   "pygments_lexer": "ipython3",
   "version": "3.11.0"
  }
 },
 "nbformat": 4,
 "nbformat_minor": 5
}
